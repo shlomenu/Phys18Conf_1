{
 "cells": [
  {
   "cell_type": "markdown",
   "metadata": {},
   "source": [
    "Data Preparation Notebook\n",
    "======\n",
    "\n",
    "Hi Merideth!  This is a step-by-step guide to the data-preparation process I underwent.  I try to do two somewhat contrary things here: I want to show you how I actually completed the steps (which is often less than the ideal way), while also illustrating what would be best to run in order to _replicate_ the work.\n",
    "\n",
    "---\n",
    "\n",
    "Imports: I suggest using ana/miniconda for the environment.  The command `conda create -n NAME -c conda-forge jupyter nb_conda dask pandas numpy scikit-learn fastparquet hdbscan` will be enough to replicate everything here.  It is then activated with `source activate NAME`."
   ]
  },
  {
   "cell_type": "code",
   "execution_count": 13,
   "metadata": {},
   "outputs": [],
   "source": [
    "# Data-manipulation imports\n",
    "import dask\n",
    "from dask import dataframe as dd\n",
    "from dask.dataframe import to_parquet, read_parquet\n",
    "from dask.diagnostics import ProgressBar\n",
    "from sklearn.cluster import DBSCAN\n",
    "from sklearn.neighbors import DistanceMetric\n",
    "import pandas as pd\n",
    "import numpy as np\n",
    "import hdbscan\n",
    "\n",
    "pbar = ProgressBar()\n",
    "pbar.register()\n",
    "\n",
    "# utilities\n",
    "from multiprocessing import cpu_count\n",
    "from datetime import datetime\n",
    "from re import compile\n",
    "from sklearn.externals.joblib import dump, load"
   ]
  },
  {
   "cell_type": "markdown",
   "metadata": {},
   "source": [
    "### Cleaning/Paring [AS IT WAS DONE]\n",
    "\n",
    "This next stretch of code is the process for turning the original download from `safecast.org` into the dataset to be used for clustering.  First, in the directory from which this notebook is launched, I assume you've run the following command(s):\n",
    "```\n",
    "wget https://api.safecast.org/system/measurements.tar.gz; tar -xvzf measurements.tar.gz\n",
    "```\n",
    "(This could take 10-15 minutes).  This should leave you with a 10+ GB `measurements-out.csv` file in the current directory.\n",
    "At this stage for me, I was still operating on my laptop.  This would eventually become unwieldy and I would have to move to a cloud service.  For these steps, one would typically want a \"compute-intensive\" tier of machine.  The most economical version of this type of machine I saw was the 16-core compute-intensive resource from DigitalOcean at ~<span>\\$</span>0.91/hr, but DigitalOcean did not have any of that type available at the specific hour I started, so I went to AWS (Amazon Web Services) instead.  While this next cell ran on my laptop, subsequent cells (until further notice) ran on a c4.8xlarge instance with 60 Gib of ram, 18 cpus of 2.9 Ghz (one thread each) at a rate of ~$1.49/hr.  I'm not sure it's worth imitating my resource use.  Even if all of these steps had executed in quick succession without hours of errors/aborted calls/memory failures, it likely was not maximally economical.  I used the Amazon Linux AMI, which I installed `git` and `miniconda` onto.  After which I created the environment with the command I recommended above.\n",
    "\n",
    "---\n",
    "\n",
    "In this block I read the csv in, providing dtype specifications for the `Surface` and `Radiation` columns.  They have mixed types so they need to be allowed to be read in as `object`.  I rename the `Time` column, drop the irrelevant (and mostly empty in some cases) list of columns in line 6.  I then write the repartitioned (with 24 partitions because of my 8-core machine) dataframe to parquet files (these are vastly superior, I can't recommend them enough).  The output is long (double click to reveal it) due to an error but shows that this process took ~10 minutes on a laptop."
   ]
  },
  {
   "cell_type": "code",
   "execution_count": 9,
   "metadata": {
    "collapsed": true
   },
   "outputs": [
    {
     "name": "stdout",
     "output_type": "stream",
     "text": [
      "[                                        ] | 0% Completed | 11.1s"
     ]
    },
    {
     "name": "stderr",
     "output_type": "stream",
     "text": [
      "/home/shlomenu/anaconda3/envs/rad/lib/python3.7/site-packages/dask/local.py:252: DtypeWarning: Columns (5) have mixed types. Specify dtype option on import or set low_memory=False.\n",
      "  args2 = [_execute_task(a, cache) for a in args]\n"
     ]
    },
    {
     "name": "stdout",
     "output_type": "stream",
     "text": [
      "[##                                      ] | 5% Completed | 31.1s"
     ]
    },
    {
     "name": "stderr",
     "output_type": "stream",
     "text": [
      "/home/shlomenu/anaconda3/envs/rad/lib/python3.7/site-packages/dask/local.py:252: DtypeWarning: Columns (5) have mixed types. Specify dtype option on import or set low_memory=False.\n",
      "  args2 = [_execute_task(a, cache) for a in args]\n"
     ]
    },
    {
     "name": "stdout",
     "output_type": "stream",
     "text": [
      "[##                                      ] | 6% Completed | 44.8s"
     ]
    },
    {
     "name": "stderr",
     "output_type": "stream",
     "text": [
      "/home/shlomenu/anaconda3/envs/rad/lib/python3.7/site-packages/dask/local.py:252: DtypeWarning: Columns (5) have mixed types. Specify dtype option on import or set low_memory=False.\n",
      "  args2 = [_execute_task(a, cache) for a in args]\n"
     ]
    },
    {
     "name": "stdout",
     "output_type": "stream",
     "text": [
      "[###                                     ] | 7% Completed | 48.6s"
     ]
    },
    {
     "name": "stderr",
     "output_type": "stream",
     "text": [
      "/home/shlomenu/anaconda3/envs/rad/lib/python3.7/site-packages/dask/local.py:252: DtypeWarning: Columns (5) have mixed types. Specify dtype option on import or set low_memory=False.\n",
      "  args2 = [_execute_task(a, cache) for a in args]\n"
     ]
    },
    {
     "name": "stdout",
     "output_type": "stream",
     "text": [
      "[####                                    ] | 10% Completed |  1min  5.0s"
     ]
    },
    {
     "name": "stderr",
     "output_type": "stream",
     "text": [
      "/home/shlomenu/anaconda3/envs/rad/lib/python3.7/site-packages/dask/local.py:252: DtypeWarning: Columns (5) have mixed types. Specify dtype option on import or set low_memory=False.\n",
      "  args2 = [_execute_task(a, cache) for a in args]\n"
     ]
    },
    {
     "name": "stdout",
     "output_type": "stream",
     "text": [
      "[####                                    ] | 12% Completed |  1min 12.3s"
     ]
    },
    {
     "name": "stderr",
     "output_type": "stream",
     "text": [
      "/home/shlomenu/anaconda3/envs/rad/lib/python3.7/site-packages/dask/local.py:252: DtypeWarning: Columns (5) have mixed types. Specify dtype option on import or set low_memory=False.\n",
      "  args2 = [_execute_task(a, cache) for a in args]\n"
     ]
    },
    {
     "name": "stdout",
     "output_type": "stream",
     "text": [
      "[####                                    ] | 12% Completed |  1min 13.9s"
     ]
    },
    {
     "name": "stderr",
     "output_type": "stream",
     "text": [
      "/home/shlomenu/anaconda3/envs/rad/lib/python3.7/site-packages/dask/local.py:252: DtypeWarning: Columns (5) have mixed types. Specify dtype option on import or set low_memory=False.\n",
      "  args2 = [_execute_task(a, cache) for a in args]\n"
     ]
    },
    {
     "name": "stdout",
     "output_type": "stream",
     "text": [
      "[######                                  ] | 16% Completed |  1min 38.9s"
     ]
    },
    {
     "name": "stderr",
     "output_type": "stream",
     "text": [
      "/home/shlomenu/anaconda3/envs/rad/lib/python3.7/site-packages/dask/local.py:252: DtypeWarning: Columns (5) have mixed types. Specify dtype option on import or set low_memory=False.\n",
      "  args2 = [_execute_task(a, cache) for a in args]\n"
     ]
    },
    {
     "name": "stdout",
     "output_type": "stream",
     "text": [
      "[#######                                 ] | 18% Completed |  1min 51.9s"
     ]
    },
    {
     "name": "stderr",
     "output_type": "stream",
     "text": [
      "/home/shlomenu/anaconda3/envs/rad/lib/python3.7/site-packages/dask/local.py:252: DtypeWarning: Columns (5) have mixed types. Specify dtype option on import or set low_memory=False.\n",
      "  args2 = [_execute_task(a, cache) for a in args]\n"
     ]
    },
    {
     "name": "stdout",
     "output_type": "stream",
     "text": [
      "[########                                ] | 22% Completed |  2min 13.5s"
     ]
    },
    {
     "name": "stderr",
     "output_type": "stream",
     "text": [
      "/home/shlomenu/anaconda3/envs/rad/lib/python3.7/site-packages/dask/local.py:252: DtypeWarning: Columns (5) have mixed types. Specify dtype option on import or set low_memory=False.\n",
      "  args2 = [_execute_task(a, cache) for a in args]\n"
     ]
    },
    {
     "name": "stdout",
     "output_type": "stream",
     "text": [
      "[##########                              ] | 25% Completed |  2min 27.8s"
     ]
    },
    {
     "name": "stderr",
     "output_type": "stream",
     "text": [
      "/home/shlomenu/anaconda3/envs/rad/lib/python3.7/site-packages/dask/local.py:252: DtypeWarning: Columns (5) have mixed types. Specify dtype option on import or set low_memory=False.\n",
      "  args2 = [_execute_task(a, cache) for a in args]\n"
     ]
    },
    {
     "name": "stdout",
     "output_type": "stream",
     "text": [
      "[##########                              ] | 26% Completed |  2min 35.1s"
     ]
    },
    {
     "name": "stderr",
     "output_type": "stream",
     "text": [
      "/home/shlomenu/anaconda3/envs/rad/lib/python3.7/site-packages/dask/local.py:252: DtypeWarning: Columns (5) have mixed types. Specify dtype option on import or set low_memory=False.\n",
      "  args2 = [_execute_task(a, cache) for a in args]\n"
     ]
    },
    {
     "name": "stdout",
     "output_type": "stream",
     "text": [
      "[###########                             ] | 29% Completed |  2min 54.7s"
     ]
    },
    {
     "name": "stderr",
     "output_type": "stream",
     "text": [
      "/home/shlomenu/anaconda3/envs/rad/lib/python3.7/site-packages/dask/local.py:252: DtypeWarning: Columns (5) have mixed types. Specify dtype option on import or set low_memory=False.\n",
      "  args2 = [_execute_task(a, cache) for a in args]\n"
     ]
    },
    {
     "name": "stdout",
     "output_type": "stream",
     "text": [
      "[###########                             ] | 29% Completed |  2min 57.1s"
     ]
    },
    {
     "name": "stderr",
     "output_type": "stream",
     "text": [
      "/home/shlomenu/anaconda3/envs/rad/lib/python3.7/site-packages/dask/local.py:252: DtypeWarning: Columns (5) have mixed types. Specify dtype option on import or set low_memory=False.\n",
      "  args2 = [_execute_task(a, cache) for a in args]\n"
     ]
    },
    {
     "name": "stdout",
     "output_type": "stream",
     "text": [
      "[#############                           ] | 32% Completed |  3min 16.5s"
     ]
    },
    {
     "name": "stderr",
     "output_type": "stream",
     "text": [
      "/home/shlomenu/anaconda3/envs/rad/lib/python3.7/site-packages/dask/local.py:252: DtypeWarning: Columns (5) have mixed types. Specify dtype option on import or set low_memory=False.\n",
      "  args2 = [_execute_task(a, cache) for a in args]\n"
     ]
    },
    {
     "name": "stdout",
     "output_type": "stream",
     "text": [
      "[#############                           ] | 33% Completed |  3min 19.7s"
     ]
    },
    {
     "name": "stderr",
     "output_type": "stream",
     "text": [
      "/home/shlomenu/anaconda3/envs/rad/lib/python3.7/site-packages/dask/local.py:252: DtypeWarning: Columns (5) have mixed types. Specify dtype option on import or set low_memory=False.\n",
      "  args2 = [_execute_task(a, cache) for a in args]\n"
     ]
    },
    {
     "name": "stdout",
     "output_type": "stream",
     "text": [
      "[###############                         ] | 37% Completed |  3min 42.5s"
     ]
    },
    {
     "name": "stderr",
     "output_type": "stream",
     "text": [
      "/home/shlomenu/anaconda3/envs/rad/lib/python3.7/site-packages/dask/local.py:252: DtypeWarning: Columns (5) have mixed types. Specify dtype option on import or set low_memory=False.\n",
      "  args2 = [_execute_task(a, cache) for a in args]\n"
     ]
    },
    {
     "name": "stdout",
     "output_type": "stream",
     "text": [
      "[################                        ] | 41% Completed |  4min 11.3s"
     ]
    },
    {
     "name": "stderr",
     "output_type": "stream",
     "text": [
      "/home/shlomenu/anaconda3/envs/rad/lib/python3.7/site-packages/dask/local.py:252: DtypeWarning: Columns (5) have mixed types. Specify dtype option on import or set low_memory=False.\n",
      "  args2 = [_execute_task(a, cache) for a in args]\n"
     ]
    },
    {
     "name": "stdout",
     "output_type": "stream",
     "text": [
      "[##################                      ] | 45% Completed |  4min 34.3s"
     ]
    },
    {
     "name": "stderr",
     "output_type": "stream",
     "text": [
      "/home/shlomenu/anaconda3/envs/rad/lib/python3.7/site-packages/dask/local.py:252: DtypeWarning: Columns (5) have mixed types. Specify dtype option on import or set low_memory=False.\n",
      "  args2 = [_execute_task(a, cache) for a in args]\n"
     ]
    },
    {
     "name": "stdout",
     "output_type": "stream",
     "text": [
      "[##################                      ] | 47% Completed |  4min 43.4s"
     ]
    },
    {
     "name": "stderr",
     "output_type": "stream",
     "text": [
      "/home/shlomenu/anaconda3/envs/rad/lib/python3.7/site-packages/dask/local.py:252: DtypeWarning: Columns (5) have mixed types. Specify dtype option on import or set low_memory=False.\n",
      "  args2 = [_execute_task(a, cache) for a in args]\n"
     ]
    },
    {
     "name": "stdout",
     "output_type": "stream",
     "text": [
      "[###################                     ] | 49% Completed |  5min  0.8s"
     ]
    },
    {
     "name": "stderr",
     "output_type": "stream",
     "text": [
      "/home/shlomenu/anaconda3/envs/rad/lib/python3.7/site-packages/dask/local.py:252: DtypeWarning: Columns (5) have mixed types. Specify dtype option on import or set low_memory=False.\n",
      "  args2 = [_execute_task(a, cache) for a in args]\n"
     ]
    },
    {
     "name": "stdout",
     "output_type": "stream",
     "text": [
      "[####################                    ] | 51% Completed |  5min  6.6s"
     ]
    },
    {
     "name": "stderr",
     "output_type": "stream",
     "text": [
      "/home/shlomenu/anaconda3/envs/rad/lib/python3.7/site-packages/dask/local.py:252: DtypeWarning: Columns (5) have mixed types. Specify dtype option on import or set low_memory=False.\n",
      "  args2 = [_execute_task(a, cache) for a in args]\n"
     ]
    },
    {
     "name": "stdout",
     "output_type": "stream",
     "text": [
      "[######################                  ] | 55% Completed |  5min 35.4s"
     ]
    },
    {
     "name": "stderr",
     "output_type": "stream",
     "text": [
      "/home/shlomenu/anaconda3/envs/rad/lib/python3.7/site-packages/dask/local.py:252: DtypeWarning: Columns (5) have mixed types. Specify dtype option on import or set low_memory=False.\n",
      "  args2 = [_execute_task(a, cache) for a in args]\n"
     ]
    },
    {
     "name": "stdout",
     "output_type": "stream",
     "text": [
      "[########################                ] | 62% Completed |  6min 18.5s"
     ]
    },
    {
     "name": "stderr",
     "output_type": "stream",
     "text": [
      "/home/shlomenu/anaconda3/envs/rad/lib/python3.7/site-packages/dask/local.py:252: DtypeWarning: Columns (5) have mixed types. Specify dtype option on import or set low_memory=False.\n",
      "  args2 = [_execute_task(a, cache) for a in args]\n"
     ]
    },
    {
     "name": "stdout",
     "output_type": "stream",
     "text": [
      "[#########################               ] | 63% Completed |  6min 33.4s"
     ]
    },
    {
     "name": "stderr",
     "output_type": "stream",
     "text": [
      "/home/shlomenu/anaconda3/envs/rad/lib/python3.7/site-packages/dask/local.py:252: DtypeWarning: Columns (5) have mixed types. Specify dtype option on import or set low_memory=False.\n",
      "  args2 = [_execute_task(a, cache) for a in args]\n"
     ]
    },
    {
     "name": "stdout",
     "output_type": "stream",
     "text": [
      "[############################            ] | 70% Completed |  7min  8.0s"
     ]
    },
    {
     "name": "stderr",
     "output_type": "stream",
     "text": [
      "/home/shlomenu/anaconda3/envs/rad/lib/python3.7/site-packages/dask/local.py:252: DtypeWarning: Columns (5) have mixed types. Specify dtype option on import or set low_memory=False.\n",
      "  args2 = [_execute_task(a, cache) for a in args]\n"
     ]
    },
    {
     "name": "stdout",
     "output_type": "stream",
     "text": [
      "[############################            ] | 70% Completed |  7min  9.2s"
     ]
    },
    {
     "name": "stderr",
     "output_type": "stream",
     "text": [
      "/home/shlomenu/anaconda3/envs/rad/lib/python3.7/site-packages/dask/local.py:252: DtypeWarning: Columns (5) have mixed types. Specify dtype option on import or set low_memory=False.\n",
      "  args2 = [_execute_task(a, cache) for a in args]\n"
     ]
    },
    {
     "name": "stdout",
     "output_type": "stream",
     "text": [
      "[############################            ] | 72% Completed |  7min 19.8s"
     ]
    },
    {
     "name": "stderr",
     "output_type": "stream",
     "text": [
      "/home/shlomenu/anaconda3/envs/rad/lib/python3.7/site-packages/dask/local.py:252: DtypeWarning: Columns (5) have mixed types. Specify dtype option on import or set low_memory=False.\n",
      "  args2 = [_execute_task(a, cache) for a in args]\n"
     ]
    },
    {
     "name": "stdout",
     "output_type": "stream",
     "text": [
      "[#############################           ] | 74% Completed |  7min 34.3s"
     ]
    },
    {
     "name": "stderr",
     "output_type": "stream",
     "text": [
      "/home/shlomenu/anaconda3/envs/rad/lib/python3.7/site-packages/dask/local.py:252: DtypeWarning: Columns (5) have mixed types. Specify dtype option on import or set low_memory=False.\n",
      "  args2 = [_execute_task(a, cache) for a in args]\n"
     ]
    },
    {
     "name": "stdout",
     "output_type": "stream",
     "text": [
      "[###############################         ] | 78% Completed |  7min 57.4s"
     ]
    },
    {
     "name": "stderr",
     "output_type": "stream",
     "text": [
      "/home/shlomenu/anaconda3/envs/rad/lib/python3.7/site-packages/dask/local.py:252: DtypeWarning: Columns (5) have mixed types. Specify dtype option on import or set low_memory=False.\n",
      "  args2 = [_execute_task(a, cache) for a in args]\n"
     ]
    },
    {
     "name": "stdout",
     "output_type": "stream",
     "text": [
      "[###############################         ] | 79% Completed |  8min  3.8s"
     ]
    },
    {
     "name": "stderr",
     "output_type": "stream",
     "text": [
      "/home/shlomenu/anaconda3/envs/rad/lib/python3.7/site-packages/dask/local.py:252: DtypeWarning: Columns (5) have mixed types. Specify dtype option on import or set low_memory=False.\n",
      "  args2 = [_execute_task(a, cache) for a in args]\n"
     ]
    },
    {
     "name": "stdout",
     "output_type": "stream",
     "text": [
      "[#################################       ] | 83% Completed |  8min 23.6s"
     ]
    },
    {
     "name": "stderr",
     "output_type": "stream",
     "text": [
      "/home/shlomenu/anaconda3/envs/rad/lib/python3.7/site-packages/dask/local.py:252: DtypeWarning: Columns (5) have mixed types. Specify dtype option on import or set low_memory=False.\n",
      "  args2 = [_execute_task(a, cache) for a in args]\n"
     ]
    },
    {
     "name": "stdout",
     "output_type": "stream",
     "text": [
      "[##################################      ] | 85% Completed |  8min 37.8s"
     ]
    },
    {
     "name": "stderr",
     "output_type": "stream",
     "text": [
      "/home/shlomenu/anaconda3/envs/rad/lib/python3.7/site-packages/dask/local.py:252: DtypeWarning: Columns (5) have mixed types. Specify dtype option on import or set low_memory=False.\n",
      "  args2 = [_execute_task(a, cache) for a in args]\n"
     ]
    },
    {
     "name": "stdout",
     "output_type": "stream",
     "text": [
      "[###################################     ] | 87% Completed |  8min 48.5s"
     ]
    },
    {
     "name": "stderr",
     "output_type": "stream",
     "text": [
      "/home/shlomenu/anaconda3/envs/rad/lib/python3.7/site-packages/dask/local.py:252: DtypeWarning: Columns (5) have mixed types. Specify dtype option on import or set low_memory=False.\n",
      "  args2 = [_execute_task(a, cache) for a in args]\n"
     ]
    },
    {
     "name": "stdout",
     "output_type": "stream",
     "text": [
      "[###################################     ] | 88% Completed |  8min 58.1s"
     ]
    },
    {
     "name": "stderr",
     "output_type": "stream",
     "text": [
      "/home/shlomenu/anaconda3/envs/rad/lib/python3.7/site-packages/dask/local.py:252: DtypeWarning: Columns (5) have mixed types. Specify dtype option on import or set low_memory=False.\n",
      "  args2 = [_execute_task(a, cache) for a in args]\n"
     ]
    },
    {
     "name": "stdout",
     "output_type": "stream",
     "text": [
      "[########################################] | 100% Completed | 10min  2.3s\n"
     ]
    }
   ],
   "source": [
    "# Making file more manageable by dropping undesired columns, renaming, repartitioning then saving in better file format.\n",
    "# Only needed to be executed once; preserved for posterity.\n",
    "\n",
    "mmnts = dd.read_csv('./measurements-out.csv', dtype={'Surface':'object', 'Radiation':'object'})\n",
    "mmnts = mmnts.rename(columns={'Captured Time': 'Time'})\n",
    "mmnts = mmnts.drop(['Device ID', 'MD5Sum', 'Height', 'Surface', 'Radiation', 'Uploaded Time', 'Loader ID'], axis=1)\n",
    "ncores = cpu_count()\n",
    "with ProgressBar():\n",
    "    to_parquet( mmnts.repartition(npartitions=(3*ncores)), \n",
    "                '/mnt/c/users/eliw5/src/academic/Phys18Conf_1/', \n",
    "                engine='fastparquet', \n",
    "                compute=True,\n",
    "    )"
   ]
  },
  {
   "cell_type": "markdown",
   "metadata": {},
   "source": [
    "Inelegantly, it took until I was over to the server to decide that I did not want to keep track of `Location Name`.  It seemed like a good idea, but it was sparse enough not to be worth the hassle in the end.  In this cell I drop that column and rewrite with more partitions (108 on my 18 core AWS instance)."
   ]
  },
  {
   "cell_type": "code",
   "execution_count": 5,
   "metadata": {},
   "outputs": [
    {
     "name": "stdout",
     "output_type": "stream",
     "text": [
      "[########################################] | 100% Completed |  1hr  3min  1.6s\n"
     ]
    }
   ],
   "source": [
    "mmnts = read_parquet('./data_files/first_trim/', engine='fastparquet')\n",
    "mmnts = mmnts.drop(['Location Name'], axis='columns')\n",
    "ncores = cpu_count()\n",
    "mmnts = mmnts.repartition(npartitions=6*ncores)\n",
    "with ProgressBar(), dask.config.set(scheduler='processes'):\n",
    "    to_parquet( mmnts,\n",
    "                './data_files/second_trim/',\n",
    "                engine='fastparquet',\n",
    "                compute=True\n",
    "    )"
   ]
  },
  {
   "cell_type": "markdown",
   "metadata": {},
   "source": [
    "Now lacking the sparse `Location Name` column, it was easy to `dropna` across all columns, since any sample lacking a `Time`, `Latitude`, `Longitude`, `Value`, or `Unit` was useless.  This step was surprisingly quick."
   ]
  },
  {
   "cell_type": "code",
   "execution_count": 8,
   "metadata": {},
   "outputs": [
    {
     "name": "stdout",
     "output_type": "stream",
     "text": [
      "[########################################] | 100% Completed | 49.6s\n"
     ]
    }
   ],
   "source": [
    "mmnts = read_parquet('./data_files/second_trim/', engine='fastparquet')\n",
    "mmnts = mmnts.dropna()\n",
    "with ProgressBar(), dask.config.set(scheduler='processes', optimize_graph=True):\n",
    "    to_parquet( mmnts,\n",
    "                './data_files/third_trim/',\n",
    "                engine='fastparquet',\n",
    "                compute=True\n",
    "    )"
   ]
  },
  {
   "cell_type": "markdown",
   "metadata": {},
   "source": [
    "In this cell, I made the `Unit` column have the `category` dtype.  Dask dataframes have a built in `.categorize` method.  Initially, I resisted using this just as an animal spirit, and instead separated the `Unit` column, called `.astype('category').to_frame()`, and attempted to re-`merge` them.  This was a disastrous idea.  If it all possible, it is crucial to avoid `merge` on anything of size using Dask (and this dataset had 110 million entries when *I* downloaded it).  The best answer I saw in my troubleshooting (I didn't investigate the source) was that Dask inefficiently tries to build the entire merged dataframe in memory.  This would result in fully duplicating the whole 110 million entries, which could be significantly bigger in-memory than they appear as parquet files (where they total 5.6 GB).  Just this `merge` was capable of consuming more than 60 Gib (64 GB) of RAM.  Additionally, if Dask does not remember that, despite being separated, the dataframes have all the same partitions, it could cause a linear-time search for each sample across every partition of the merging dataframe.  I'm sure there are more detailed reasons for the failure.  The several, hour-long eventual failed steps have _not_ been kept here for posterity."
   ]
  },
  {
   "cell_type": "code",
   "execution_count": 3,
   "metadata": {},
   "outputs": [
    {
     "name": "stdout",
     "output_type": "stream",
     "text": [
      "[########################################] | 100% Completed | 20.3s\n",
      "[########################################] | 100% Completed | 18.5s\n"
     ]
    }
   ],
   "source": [
    "mmnts = read_parquet('./data_files/third_trim/', engine='fastparquet')\n",
    "with ProgressBar(), dask.config.set(scheduler='processes', optimize_graph=True):\n",
    "    to_parquet( mmnts.categorize(columns=['Unit'], index=False),\n",
    "                '/home/ec2-user/Phys18Conf_1/data_files/fourth_trim/',\n",
    "                engine='fastparquet',\n",
    "                compute=True,\n",
    "    )"
   ]
  },
  {
   "cell_type": "markdown",
   "metadata": {},
   "source": [
    "This cell contains the most substantive transformation so far: changing the Python object time-stamp strings into numbers of seconds since 2011 (a month or two before the first datum).  This will later be necessary so that DBSCAN can do its temporal clustering with a readable value.  Once again motivated by avoiding `dask.DataFrame.merge` at all costs, we find a way to, in parallel and without changing/splitting the dataframe, apply the desired transformation only to the `Time` column entries.  We do this by mapping to each partition (`.map_partitions`) a `lambda`, that calls `pandas.DataFrame.apply`, _column-wise_ with the function `filt`.  `filt` checks if the column has `dtype == 'object` (as only the `Time` column will).  If so, it calls `pandas.Series.apply` on the _column_ (always the `Time` column in practice) with `tconv`, which reads the string into a Python `datetime` object; takes its difference from 2011 as a `time_delta`; then converts that to seconds as an numpy `int64`.  There are three levels of `apply` going on here!"
   ]
  },
  {
   "cell_type": "code",
   "execution_count": 9,
   "metadata": {},
   "outputs": [
    {
     "name": "stdout",
     "output_type": "stream",
     "text": [
      "[########################################] | 100% Completed |  1min 56.6s\n"
     ]
    }
   ],
   "source": [
    "start_dt = datetime.strptime('2011-01-01 00:00:00', '%Y-%m-%d %H:%M:%S')\n",
    "microseconds = compile('\\.\\d*')\n",
    "\n",
    "def filt(col):\n",
    "    if col.dtype != 'object':\n",
    "        return col\n",
    "    else:\n",
    "        return col.apply(tconv)\n",
    "    \n",
    "def tconv(s):\n",
    "    dt = datetime.strptime(microseconds.sub('', str(s)), '%Y-%m-%d %H:%M:%S')\n",
    "    delta = dt - start_dt\n",
    "    result = np.array(delta.total_seconds())\n",
    "    return result.astype(np.int64)\n",
    "\n",
    "mmnts = read_parquet('./data_files/fourth_trim/', engine='fastparquet')\n",
    "_meta = {'Time': 'int64', 'Latitude': 'float64', 'Longitude': 'float64', 'Value': 'float64', 'Unit': 'category'}\n",
    "mmnts = mmnts.map_partitions(lambda df: df.apply(filt, axis=0), meta=_meta)\n",
    "with ProgressBar(), dask.config.set(scheduler='processes', optimize_graph=True):\n",
    "    to_parquet( mmnts,\n",
    "               '/home/ec2-user/Phys18Conf_1/data_files/fifth_trim',\n",
    "               engine='fastparquet',\n",
    "               compute=True\n",
    "    )"
   ]
  },
  {
   "cell_type": "markdown",
   "metadata": {},
   "source": [
    "For comparison, the dataframe has just about 110 million rows before we drop the inappropriate units.  After, it would have about 102 million."
   ]
  },
  {
   "cell_type": "code",
   "execution_count": 13,
   "metadata": {},
   "outputs": [
    {
     "data": {
      "text/plain": [
       "109799687"
      ]
     },
     "execution_count": 13,
     "metadata": {},
     "output_type": "execute_result"
    }
   ],
   "source": [
    "len(mmnts)"
   ]
  },
  {
   "cell_type": "markdown",
   "metadata": {},
   "source": [
    "Here we see the distribution of values across the categories of `Unit`.  The vast majority are CPMs.  We would maintain almost all the data by only taking the rows of category `cpm`.  A number of units are totally uninterpretable/unusable.  `status` is not any kind of unit as far as I can tell. (Perhaps it is a default that people forget to change when submitting their observations?).  Perhaps there is some way to measure radiation as a temperature, but I couldn't find any evidence of `celcius` as a unit of radiation.  `1`, `0`, `DeviceType1`, `DeviceType2` are not units at all.  From brief investigation, it appears that `PM1`, `PM2.5`, `PM10`, `pm2.5` are a type of air quality measure.  This is probably because SafeCast is trying to break into other kinds of environmental monitoring, including air quality.  This also appears to be the source of `NOXppm` and `HUMD%`.  `RSSI` is a measure of radio signal strength.  `TEMPC`, perhaps another temperature measurement.  The only reputable alternative measurement present is the Sievert.  I looked into converting the sievert measurements to CPMs, but it appears that _how_ to do this conversion depends on what atomic substance the Geiger counter was calibrated with: CPMs translate differently to Sieverts calibrated with Cobalt isotope than with Caesium isotope.  This information was not present even in the full table, so this ruled out the conversion.  Unfortunately, the largest chunks left on the table were not the Sieverts, but the unsalvageable `status` and the `celcius`.  "
   ]
  },
  {
   "cell_type": "code",
   "execution_count": 20,
   "metadata": {},
   "outputs": [
    {
     "name": "stdout",
     "output_type": "stream",
     "text": [
      "[########################################] | 100% Completed |  0.7s\n"
     ]
    }
   ],
   "source": [
    "mmnts = read_parquet('/home/ec2-user/Phys18Conf_1/data_files/fifth_trim/', engine='fastparquet')\n",
    "with ProgressBar():\n",
    "    out = mmnts['Unit'].value_counts().compute(scheduler='processes', optimize_graph=True)"
   ]
  },
  {
   "cell_type": "code",
   "execution_count": 21,
   "metadata": {},
   "outputs": [
    {
     "data": {
      "text/plain": [
       "cpm             102927743\n",
       "status            3765116\n",
       "celcius           2775932\n",
       "usv                279888\n",
       "microsievert        30096\n",
       " cpm                10043\n",
       "1                    8892\n",
       "DeviceType2          1363\n",
       "CPM                   289\n",
       "Cpm                    55\n",
       "DeviceType1            45\n",
       "usv/hr                 43\n",
       "uSv/h                  43\n",
       "PM1                    28\n",
       "HUMD%                  20\n",
       "PM2.5                  17\n",
       "0                      15\n",
       "uSv                    14\n",
       "PM10                   13\n",
       "NOXppm                 12\n",
       "TEMPC                  11\n",
       "pm2.5                   4\n",
       "uSv/hr                  3\n",
       "RSSI                    2\n",
       "Name: Unit, dtype: int64"
      ]
     },
     "execution_count": 21,
     "metadata": {},
     "output_type": "execute_result"
    }
   ],
   "source": [
    "out"
   ]
  },
  {
   "cell_type": "markdown",
   "metadata": {},
   "source": [
    "Nonetheless, we could retain the ~11,000 measurements separated only by the alternate spellings of CPM.  Now that all units were CPM, we could discard the `Unit` column entirely.  `out2[:-2]` merely gets rid of two rows with bad time stamps (instead of 2011 they read 201).  This wasn't done earlier because `dask.DataFrame.drop` does not support dropping rows.  "
   ]
  },
  {
   "cell_type": "code",
   "execution_count": 23,
   "metadata": {},
   "outputs": [
    {
     "name": "stdout",
     "output_type": "stream",
     "text": [
      "[########################################] | 100% Completed | 36.4s\n"
     ]
    }
   ],
   "source": [
    "with ProgressBar():\n",
    "    out2 = mmnts[mmnts['Unit'].isin(['cpm', ' cpm', 'CPM', 'Cpm'])].compute(scheduler='processes', optimize_graph=True)"
   ]
  },
  {
   "cell_type": "code",
   "execution_count": 43,
   "metadata": {
    "scrolled": true
   },
   "outputs": [
    {
     "data": {
      "text/html": [
       "<div>\n",
       "<style scoped>\n",
       "    .dataframe tbody tr th:only-of-type {\n",
       "        vertical-align: middle;\n",
       "    }\n",
       "\n",
       "    .dataframe tbody tr th {\n",
       "        vertical-align: top;\n",
       "    }\n",
       "\n",
       "    .dataframe thead th {\n",
       "        text-align: right;\n",
       "    }\n",
       "</style>\n",
       "<table border=\"1\" class=\"dataframe\">\n",
       "  <thead>\n",
       "    <tr style=\"text-align: right;\">\n",
       "      <th></th>\n",
       "      <th>Time</th>\n",
       "      <th>Latitude</th>\n",
       "      <th>Longitude</th>\n",
       "      <th>Value</th>\n",
       "    </tr>\n",
       "  </thead>\n",
       "  <tbody>\n",
       "    <tr>\n",
       "      <th>0</th>\n",
       "      <td>286909200</td>\n",
       "      <td>37.507552</td>\n",
       "      <td>139.941170</td>\n",
       "      <td>72.0</td>\n",
       "    </tr>\n",
       "    <tr>\n",
       "      <th>1</th>\n",
       "      <td>286887600</td>\n",
       "      <td>37.507250</td>\n",
       "      <td>139.940000</td>\n",
       "      <td>55.0</td>\n",
       "    </tr>\n",
       "    <tr>\n",
       "      <th>2</th>\n",
       "      <td>286887600</td>\n",
       "      <td>37.505445</td>\n",
       "      <td>0.016667</td>\n",
       "      <td>68.0</td>\n",
       "    </tr>\n",
       "    <tr>\n",
       "      <th>3</th>\n",
       "      <td>286686000</td>\n",
       "      <td>34.066487</td>\n",
       "      <td>-118.895217</td>\n",
       "      <td>50.0</td>\n",
       "    </tr>\n",
       "    <tr>\n",
       "      <th>4</th>\n",
       "      <td>286678800</td>\n",
       "      <td>37.673233</td>\n",
       "      <td>140.066667</td>\n",
       "      <td>48.0</td>\n",
       "    </tr>\n",
       "    <tr>\n",
       "      <th>5</th>\n",
       "      <td>286678800</td>\n",
       "      <td>37.674782</td>\n",
       "      <td>140.079895</td>\n",
       "      <td>52.0</td>\n",
       "    </tr>\n",
       "    <tr>\n",
       "      <th>6</th>\n",
       "      <td>285015600</td>\n",
       "      <td>37.517902</td>\n",
       "      <td>139.925478</td>\n",
       "      <td>59.0</td>\n",
       "    </tr>\n",
       "    <tr>\n",
       "      <th>7</th>\n",
       "      <td>285015600</td>\n",
       "      <td>37.754973</td>\n",
       "      <td>140.687660</td>\n",
       "      <td>384.0</td>\n",
       "    </tr>\n",
       "    <tr>\n",
       "      <th>8</th>\n",
       "      <td>285015600</td>\n",
       "      <td>37.526595</td>\n",
       "      <td>139.931667</td>\n",
       "      <td>59.0</td>\n",
       "    </tr>\n",
       "    <tr>\n",
       "      <th>9</th>\n",
       "      <td>285015600</td>\n",
       "      <td>37.737157</td>\n",
       "      <td>140.726832</td>\n",
       "      <td>441.0</td>\n",
       "    </tr>\n",
       "    <tr>\n",
       "      <th>10</th>\n",
       "      <td>285015600</td>\n",
       "      <td>37.539610</td>\n",
       "      <td>140.116577</td>\n",
       "      <td>47.0</td>\n",
       "    </tr>\n",
       "    <tr>\n",
       "      <th>11</th>\n",
       "      <td>285015600</td>\n",
       "      <td>37.737123</td>\n",
       "      <td>140.726853</td>\n",
       "      <td>454.0</td>\n",
       "    </tr>\n",
       "    <tr>\n",
       "      <th>12</th>\n",
       "      <td>285015600</td>\n",
       "      <td>37.550587</td>\n",
       "      <td>139.950000</td>\n",
       "      <td>44.0</td>\n",
       "    </tr>\n",
       "    <tr>\n",
       "      <th>13</th>\n",
       "      <td>285015600</td>\n",
       "      <td>37.755880</td>\n",
       "      <td>140.703412</td>\n",
       "      <td>463.0</td>\n",
       "    </tr>\n",
       "    <tr>\n",
       "      <th>14</th>\n",
       "      <td>285015600</td>\n",
       "      <td>37.747668</td>\n",
       "      <td>140.707195</td>\n",
       "      <td>579.0</td>\n",
       "    </tr>\n",
       "    <tr>\n",
       "      <th>15</th>\n",
       "      <td>284997600</td>\n",
       "      <td>37.552842</td>\n",
       "      <td>139.958773</td>\n",
       "      <td>62.0</td>\n",
       "    </tr>\n",
       "    <tr>\n",
       "      <th>16</th>\n",
       "      <td>284990400</td>\n",
       "      <td>37.537458</td>\n",
       "      <td>139.959428</td>\n",
       "      <td>56.0</td>\n",
       "    </tr>\n",
       "    <tr>\n",
       "      <th>17</th>\n",
       "      <td>284979600</td>\n",
       "      <td>37.539837</td>\n",
       "      <td>140.020780</td>\n",
       "      <td>62.0</td>\n",
       "    </tr>\n",
       "    <tr>\n",
       "      <th>18</th>\n",
       "      <td>284979600</td>\n",
       "      <td>37.737142</td>\n",
       "      <td>140.726828</td>\n",
       "      <td>430.0</td>\n",
       "    </tr>\n",
       "    <tr>\n",
       "      <th>19</th>\n",
       "      <td>284961600</td>\n",
       "      <td>37.554983</td>\n",
       "      <td>139.952030</td>\n",
       "      <td>50.0</td>\n",
       "    </tr>\n",
       "    <tr>\n",
       "      <th>21</th>\n",
       "      <td>248403628</td>\n",
       "      <td>37.644440</td>\n",
       "      <td>140.797711</td>\n",
       "      <td>41.0</td>\n",
       "    </tr>\n",
       "    <tr>\n",
       "      <th>22</th>\n",
       "      <td>248403627</td>\n",
       "      <td>37.644440</td>\n",
       "      <td>140.797711</td>\n",
       "      <td>114.0</td>\n",
       "    </tr>\n",
       "    <tr>\n",
       "      <th>23</th>\n",
       "      <td>248403557</td>\n",
       "      <td>52.444900</td>\n",
       "      <td>13.315000</td>\n",
       "      <td>24.0</td>\n",
       "    </tr>\n",
       "    <tr>\n",
       "      <th>25</th>\n",
       "      <td>248403609</td>\n",
       "      <td>42.565000</td>\n",
       "      <td>-70.783000</td>\n",
       "      <td>8.0</td>\n",
       "    </tr>\n",
       "    <tr>\n",
       "      <th>26</th>\n",
       "      <td>248403608</td>\n",
       "      <td>42.565000</td>\n",
       "      <td>-70.783000</td>\n",
       "      <td>22.0</td>\n",
       "    </tr>\n",
       "    <tr>\n",
       "      <th>27</th>\n",
       "      <td>248403305</td>\n",
       "      <td>53.285100</td>\n",
       "      <td>-8.597100</td>\n",
       "      <td>19.0</td>\n",
       "    </tr>\n",
       "    <tr>\n",
       "      <th>28</th>\n",
       "      <td>248403541</td>\n",
       "      <td>21.019000</td>\n",
       "      <td>-101.257400</td>\n",
       "      <td>28.0</td>\n",
       "    </tr>\n",
       "    <tr>\n",
       "      <th>30</th>\n",
       "      <td>248403540</td>\n",
       "      <td>52.444900</td>\n",
       "      <td>13.315000</td>\n",
       "      <td>24.0</td>\n",
       "    </tr>\n",
       "    <tr>\n",
       "      <th>31</th>\n",
       "      <td>248403597</td>\n",
       "      <td>36.041080</td>\n",
       "      <td>140.226816</td>\n",
       "      <td>23.0</td>\n",
       "    </tr>\n",
       "    <tr>\n",
       "      <th>32</th>\n",
       "      <td>248403595</td>\n",
       "      <td>37.496139</td>\n",
       "      <td>140.986419</td>\n",
       "      <td>54.0</td>\n",
       "    </tr>\n",
       "    <tr>\n",
       "      <th>...</th>\n",
       "      <td>...</td>\n",
       "      <td>...</td>\n",
       "      <td>...</td>\n",
       "      <td>...</td>\n",
       "    </tr>\n",
       "    <tr>\n",
       "      <th>276622</th>\n",
       "      <td>9755723</td>\n",
       "      <td>35.642587</td>\n",
       "      <td>139.721382</td>\n",
       "      <td>46.0</td>\n",
       "    </tr>\n",
       "    <tr>\n",
       "      <th>276623</th>\n",
       "      <td>9755718</td>\n",
       "      <td>35.642577</td>\n",
       "      <td>139.721402</td>\n",
       "      <td>48.0</td>\n",
       "    </tr>\n",
       "    <tr>\n",
       "      <th>276624</th>\n",
       "      <td>9755713</td>\n",
       "      <td>35.642573</td>\n",
       "      <td>139.721415</td>\n",
       "      <td>49.0</td>\n",
       "    </tr>\n",
       "    <tr>\n",
       "      <th>276625</th>\n",
       "      <td>9755708</td>\n",
       "      <td>35.642565</td>\n",
       "      <td>139.721425</td>\n",
       "      <td>50.0</td>\n",
       "    </tr>\n",
       "    <tr>\n",
       "      <th>276626</th>\n",
       "      <td>9755703</td>\n",
       "      <td>35.642463</td>\n",
       "      <td>139.721445</td>\n",
       "      <td>47.0</td>\n",
       "    </tr>\n",
       "    <tr>\n",
       "      <th>276627</th>\n",
       "      <td>9755698</td>\n",
       "      <td>35.642393</td>\n",
       "      <td>139.721455</td>\n",
       "      <td>50.0</td>\n",
       "    </tr>\n",
       "    <tr>\n",
       "      <th>276628</th>\n",
       "      <td>9755693</td>\n",
       "      <td>35.642392</td>\n",
       "      <td>139.721455</td>\n",
       "      <td>47.0</td>\n",
       "    </tr>\n",
       "    <tr>\n",
       "      <th>276629</th>\n",
       "      <td>9755688</td>\n",
       "      <td>35.642377</td>\n",
       "      <td>139.721477</td>\n",
       "      <td>48.0</td>\n",
       "    </tr>\n",
       "    <tr>\n",
       "      <th>276630</th>\n",
       "      <td>9755683</td>\n",
       "      <td>35.642292</td>\n",
       "      <td>139.721528</td>\n",
       "      <td>51.0</td>\n",
       "    </tr>\n",
       "    <tr>\n",
       "      <th>276631</th>\n",
       "      <td>9755678</td>\n",
       "      <td>35.642132</td>\n",
       "      <td>139.721657</td>\n",
       "      <td>45.0</td>\n",
       "    </tr>\n",
       "    <tr>\n",
       "      <th>276632</th>\n",
       "      <td>9755673</td>\n",
       "      <td>35.641782</td>\n",
       "      <td>139.721890</td>\n",
       "      <td>43.0</td>\n",
       "    </tr>\n",
       "    <tr>\n",
       "      <th>276633</th>\n",
       "      <td>9755668</td>\n",
       "      <td>35.641528</td>\n",
       "      <td>139.721965</td>\n",
       "      <td>43.0</td>\n",
       "    </tr>\n",
       "    <tr>\n",
       "      <th>276634</th>\n",
       "      <td>9755663</td>\n",
       "      <td>35.641352</td>\n",
       "      <td>139.721872</td>\n",
       "      <td>38.0</td>\n",
       "    </tr>\n",
       "    <tr>\n",
       "      <th>276635</th>\n",
       "      <td>9755658</td>\n",
       "      <td>35.641395</td>\n",
       "      <td>139.721808</td>\n",
       "      <td>40.0</td>\n",
       "    </tr>\n",
       "    <tr>\n",
       "      <th>276636</th>\n",
       "      <td>9755653</td>\n",
       "      <td>35.641420</td>\n",
       "      <td>139.721778</td>\n",
       "      <td>38.0</td>\n",
       "    </tr>\n",
       "    <tr>\n",
       "      <th>276637</th>\n",
       "      <td>9755648</td>\n",
       "      <td>35.641420</td>\n",
       "      <td>139.721725</td>\n",
       "      <td>40.0</td>\n",
       "    </tr>\n",
       "    <tr>\n",
       "      <th>276638</th>\n",
       "      <td>9755643</td>\n",
       "      <td>35.641392</td>\n",
       "      <td>139.721658</td>\n",
       "      <td>42.0</td>\n",
       "    </tr>\n",
       "    <tr>\n",
       "      <th>276639</th>\n",
       "      <td>9755638</td>\n",
       "      <td>35.641350</td>\n",
       "      <td>139.721448</td>\n",
       "      <td>41.0</td>\n",
       "    </tr>\n",
       "    <tr>\n",
       "      <th>276640</th>\n",
       "      <td>9755633</td>\n",
       "      <td>35.641403</td>\n",
       "      <td>139.721172</td>\n",
       "      <td>44.0</td>\n",
       "    </tr>\n",
       "    <tr>\n",
       "      <th>276641</th>\n",
       "      <td>9755628</td>\n",
       "      <td>35.641350</td>\n",
       "      <td>139.721053</td>\n",
       "      <td>43.0</td>\n",
       "    </tr>\n",
       "    <tr>\n",
       "      <th>276642</th>\n",
       "      <td>9755623</td>\n",
       "      <td>35.641195</td>\n",
       "      <td>139.720930</td>\n",
       "      <td>39.0</td>\n",
       "    </tr>\n",
       "    <tr>\n",
       "      <th>276643</th>\n",
       "      <td>9755618</td>\n",
       "      <td>35.641118</td>\n",
       "      <td>139.720842</td>\n",
       "      <td>42.0</td>\n",
       "    </tr>\n",
       "    <tr>\n",
       "      <th>276644</th>\n",
       "      <td>9755613</td>\n",
       "      <td>35.641073</td>\n",
       "      <td>139.720798</td>\n",
       "      <td>46.0</td>\n",
       "    </tr>\n",
       "    <tr>\n",
       "      <th>276645</th>\n",
       "      <td>9755608</td>\n",
       "      <td>35.641018</td>\n",
       "      <td>139.720760</td>\n",
       "      <td>47.0</td>\n",
       "    </tr>\n",
       "    <tr>\n",
       "      <th>276646</th>\n",
       "      <td>9755593</td>\n",
       "      <td>35.640965</td>\n",
       "      <td>139.720700</td>\n",
       "      <td>49.0</td>\n",
       "    </tr>\n",
       "    <tr>\n",
       "      <th>276647</th>\n",
       "      <td>9755588</td>\n",
       "      <td>35.640967</td>\n",
       "      <td>139.720698</td>\n",
       "      <td>49.0</td>\n",
       "    </tr>\n",
       "    <tr>\n",
       "      <th>276648</th>\n",
       "      <td>9755583</td>\n",
       "      <td>35.640968</td>\n",
       "      <td>139.720698</td>\n",
       "      <td>47.0</td>\n",
       "    </tr>\n",
       "    <tr>\n",
       "      <th>276649</th>\n",
       "      <td>9755558</td>\n",
       "      <td>35.640967</td>\n",
       "      <td>139.720700</td>\n",
       "      <td>55.0</td>\n",
       "    </tr>\n",
       "    <tr>\n",
       "      <th>276650</th>\n",
       "      <td>-57111607523</td>\n",
       "      <td>37.539493</td>\n",
       "      <td>139.929430</td>\n",
       "      <td>66.0</td>\n",
       "    </tr>\n",
       "    <tr>\n",
       "      <th>276651</th>\n",
       "      <td>-57112128000</td>\n",
       "      <td>37.484943</td>\n",
       "      <td>140.322775</td>\n",
       "      <td>164.0</td>\n",
       "    </tr>\n",
       "  </tbody>\n",
       "</table>\n",
       "<p>102938130 rows × 4 columns</p>\n",
       "</div>"
      ],
      "text/plain": [
       "               Time   Latitude   Longitude  Value\n",
       "0         286909200  37.507552  139.941170   72.0\n",
       "1         286887600  37.507250  139.940000   55.0\n",
       "2         286887600  37.505445    0.016667   68.0\n",
       "3         286686000  34.066487 -118.895217   50.0\n",
       "4         286678800  37.673233  140.066667   48.0\n",
       "5         286678800  37.674782  140.079895   52.0\n",
       "6         285015600  37.517902  139.925478   59.0\n",
       "7         285015600  37.754973  140.687660  384.0\n",
       "8         285015600  37.526595  139.931667   59.0\n",
       "9         285015600  37.737157  140.726832  441.0\n",
       "10        285015600  37.539610  140.116577   47.0\n",
       "11        285015600  37.737123  140.726853  454.0\n",
       "12        285015600  37.550587  139.950000   44.0\n",
       "13        285015600  37.755880  140.703412  463.0\n",
       "14        285015600  37.747668  140.707195  579.0\n",
       "15        284997600  37.552842  139.958773   62.0\n",
       "16        284990400  37.537458  139.959428   56.0\n",
       "17        284979600  37.539837  140.020780   62.0\n",
       "18        284979600  37.737142  140.726828  430.0\n",
       "19        284961600  37.554983  139.952030   50.0\n",
       "21        248403628  37.644440  140.797711   41.0\n",
       "22        248403627  37.644440  140.797711  114.0\n",
       "23        248403557  52.444900   13.315000   24.0\n",
       "25        248403609  42.565000  -70.783000    8.0\n",
       "26        248403608  42.565000  -70.783000   22.0\n",
       "27        248403305  53.285100   -8.597100   19.0\n",
       "28        248403541  21.019000 -101.257400   28.0\n",
       "30        248403540  52.444900   13.315000   24.0\n",
       "31        248403597  36.041080  140.226816   23.0\n",
       "32        248403595  37.496139  140.986419   54.0\n",
       "...             ...        ...         ...    ...\n",
       "276622      9755723  35.642587  139.721382   46.0\n",
       "276623      9755718  35.642577  139.721402   48.0\n",
       "276624      9755713  35.642573  139.721415   49.0\n",
       "276625      9755708  35.642565  139.721425   50.0\n",
       "276626      9755703  35.642463  139.721445   47.0\n",
       "276627      9755698  35.642393  139.721455   50.0\n",
       "276628      9755693  35.642392  139.721455   47.0\n",
       "276629      9755688  35.642377  139.721477   48.0\n",
       "276630      9755683  35.642292  139.721528   51.0\n",
       "276631      9755678  35.642132  139.721657   45.0\n",
       "276632      9755673  35.641782  139.721890   43.0\n",
       "276633      9755668  35.641528  139.721965   43.0\n",
       "276634      9755663  35.641352  139.721872   38.0\n",
       "276635      9755658  35.641395  139.721808   40.0\n",
       "276636      9755653  35.641420  139.721778   38.0\n",
       "276637      9755648  35.641420  139.721725   40.0\n",
       "276638      9755643  35.641392  139.721658   42.0\n",
       "276639      9755638  35.641350  139.721448   41.0\n",
       "276640      9755633  35.641403  139.721172   44.0\n",
       "276641      9755628  35.641350  139.721053   43.0\n",
       "276642      9755623  35.641195  139.720930   39.0\n",
       "276643      9755618  35.641118  139.720842   42.0\n",
       "276644      9755613  35.641073  139.720798   46.0\n",
       "276645      9755608  35.641018  139.720760   47.0\n",
       "276646      9755593  35.640965  139.720700   49.0\n",
       "276647      9755588  35.640967  139.720698   49.0\n",
       "276648      9755583  35.640968  139.720698   47.0\n",
       "276649      9755558  35.640967  139.720700   55.0\n",
       "276650 -57111607523  37.539493  139.929430   66.0\n",
       "276651 -57112128000  37.484943  140.322775  164.0\n",
       "\n",
       "[102938130 rows x 4 columns]"
      ]
     },
     "execution_count": 43,
     "metadata": {},
     "output_type": "execute_result"
    }
   ],
   "source": [
    "out2"
   ]
  },
  {
   "cell_type": "code",
   "execution_count": 42,
   "metadata": {},
   "outputs": [
    {
     "name": "stdout",
     "output_type": "stream",
     "text": [
      "[########################################] | 100% Completed | 16.4s\n"
     ]
    }
   ],
   "source": [
    "out2.drop('Unit', axis=1, inplace=True)\n",
    "out3 = dd.from_pandas(out2[:-2], npartitions=108)\n",
    "with ProgressBar(), dask.config.set(scheduler='processes', optimize_graph=True):\n",
    "    to_parquet( out3,\n",
    "                '/home/ec2-user/Phys18Conf_1/data_files/sixth_trim/',\n",
    "                engine='fastparquet',\n",
    "                compute=True,\n",
    "    )"
   ]
  },
  {
   "cell_type": "markdown",
   "metadata": {},
   "source": [
    "### Cleaning/Paring [AS IT SHOULD BE DONE]\n",
    "\n",
    "---\n",
    "\n",
    "This cell, as long as the initial csv was read validly from a file system, and written back as parquet files validly to a file system, would complete all the above transformations in a single step. \n",
    "\n",
    "Using the `usecols` keyword argument, only the five columns of interest are read in from the original csv.  Renaming, repartitioning, dropping NaNs, categorizing, and numerifying of the `Time` column are all done before calling `.compute`.  The categories which are typographical variations on CPM are automatically identified and those rows agglomerated before `Unit` is dropped.   `Time` is numerified after these steps so that observations which will not be used are never converted.  I also realized that you can simply reassign a column within a dataframe without a merge--oops!  We compute the dataframe before writing it back because it _seems_ to be the only way to drop the last two rows with messed-up time stamps.  If it was possible to `.concat` a dask dataframe with a pandas dataframe then I might try to compute only the last partition to drop the rows.  But since there is not, it seems there is no getting around calling `.compute` on the entire dataframe.    "
   ]
  },
  {
   "cell_type": "code",
   "execution_count": null,
   "metadata": {},
   "outputs": [],
   "source": [
    "mmnts = dd.read_csv('measurements-out.csv', usecols=['Captured Time', 'Latitude', 'Longitude', 'Value', 'Unit'])\n",
    "mmnts = mmnts.rename(columns={'Captured Time': 'Time'})\n",
    "mmnts = mmnts.repartition(npartitions=(6*cpu_count()))\n",
    "mmnts = mmnts.dropna()\n",
    "with dask.config.set(scheduler='processes'):\n",
    "    mmnts = mmnts.categorize(columns=['Unit'], index=False)\n",
    "cpms = []\n",
    "for category in mmnts['Unit'].cat.categories:\n",
    "    if category.lower().strip() == 'cpm':\n",
    "        cpms.append(category)\n",
    "mmnts = mmnts[mmnts['Unit'].isin(cpms)]\n",
    "\n",
    "start_dt = datetime.strptime('2011-01-01 00:00:00', '%Y-%m-%d %H:%M:%S')\n",
    "microseconds = compile('\\.\\d*')\n",
    "\n",
    "def tconv(s):\n",
    "    dt = datetime.strptime(microseconds.sub('', str(s)), '%Y-%m-%d %H:%M:%S')\n",
    "    delta = dt - start_dt\n",
    "    result = np.array(delta.total_seconds())\n",
    "    return result.astype(np.int64)\n",
    "\n",
    "mmnts['Time'] = mmnts['Time'].apply(tconv, axis=1, meta=('Time', 'int64'))\n",
    "mmnts_out = mmnts.compute(scheduler='processes', optimize_graph=True)\n",
    "mmnts = dd.from_pandas(mmnts_out[:-2], npartitions=(6*cpu_count()))\n",
    "with dask.config.set(scheduler='processes', optimize_graph=True):\n",
    "    to_parquet( mmnts,\n",
    "                '/path/to/your/storage/location/',\n",
    "                engine='fastparquet',\n",
    "                compression='snappy'\n",
    "                compute=True,\n",
    "    )"
   ]
  },
  {
   "attachments": {
    "image.png": {
     "image/png": "[encoded data removed]"
    }
   },
   "cell_type": "markdown",
   "metadata": {},
   "source": [
    "### Clustering [AS IT WAS DONE]\n",
    "\n",
    "---\n",
    "\n",
    "This step required a couple iterations.  Initially, I tried to run a clustering algorithm on all 102 million points.  I investigated a number of algorithms, and delved into a package called `hdbscan` which was supposed to be a, quality-, time- (I'm don't know if memory-) improvement on DBSCAN.  However, after hdbscan didn't finish for several hours, I looked into the benchmarking in the [hdbscan documentation](https://hdbscan.readthedocs.io/en/latest/performance_and_scalability.html).  Though hdbscan is a better performer than sklearn.cluster.DBSCAN, both curve upward (neither are linear in time) and begin reaching a minute of computation after only 200,000 points (albeit on a slightly less powerful machine).  If it scaled linearly, this would still require `100,000,000/(200,000*60) = 8.33` hours, but it is certainly significantly worse.  I realized no clustering algorithm that I could conveniently reach from Python without a huge rewrite was going to cluster this many points successfully--that was out of reach.  But I knew that many of the points were nowhere near each other (separated by oceans); perhaps the clustering was feasible in smaller bins.  Initially, I invested significant time in attempting to _visualize_ all the points in order to see where to draw these boundaries.  This was another costly and unsuccessful detour.  There was no library which both supported visualization of this many points _and_ would respect a coordinate reference system.  Several libraries, including `datashader`, `geoviews`, and `holoviews`, made claims, but none of their documentation (which was all jupyter notebooks which demonstrated only very particular use cases) demonstrated this functionality.  They all ran code that was oblivious to any coordinate reference system, and none on a global scale.\n",
    "\n",
    "Ultimately, I binned the points by hand using the somewhat primitive heat map at `safecast.org/tilemap/`, this image: ![image.png](attachment:image.png) and Google Earth.  The block below iteratively selects for the points within the chosen regions, then subtracts them from the remainder `rem`.  Ultimately, the dataset was divided into a North America, South America, Africa, Japan and South Korea, Australia, and \"everywhere else\" group, whose numbers are displayed in the cell below.  \n",
    "\n",
    "(Apologies for the formatting: Pandas' Boolean filtering syntax not only requires that `and` be `&` and `or` be `|`, but also that nothing is chained and all parentheses are painfully explicit.  The assignments come in pairs because each convoluted Boolean filter must be negated in order to filter the previously assigned entries from `rem`.)"
   ]
  },
  {
   "cell_type": "code",
   "execution_count": 8,
   "metadata": {},
   "outputs": [
    {
     "name": "stdout",
     "output_type": "stream",
     "text": [
      "[########################################] | 100% Completed | 23.2s\n"
     ]
    }
   ],
   "source": [
    "#mmnts         = read_parquet('/home/ec2-user/Phys18Conf_1/data_files/sixth_trim', engine='fastparquet')\n",
    "rem           = mmnts.compute(scheduler='processes', optimize_graph=True)\n",
    "rem.rename(columns={'Time':'time', 'Latitude':'lat', 'Longitude':'lon', 'Value':'val'}, inplace=True)\n",
    "\n",
    "north_america = rem[((rem['lon'] < -40) | (rem['lon'] > 160)) \n",
    "                      & \n",
    "                    (rem['lat'] > 15)]\n",
    "\n",
    "rem           = rem[~(((rem['lon'] < -40) | (rem['lon'] > 160)) \n",
    "                      & \n",
    "                    (rem['lat'] > 15))]\n",
    "\n",
    "south_america = rem[((-90 < rem['lon']) & (rem['lon'] < -25)) \n",
    "                      & \n",
    "                    ((-60 < rem['lat']) & (rem['lat'] < 15))]\n",
    "\n",
    "rem           = rem[~(((-90 < rem['lon']) & (rem['lon'] < -25)) \n",
    "                      & \n",
    "                    ((-60 < rem['lat']) & (rem['lat'] < 15)))]\n",
    "\n",
    "# dropping fukushima meltdown\n",
    "before = len(rem)\n",
    "rem           = rem[~(((36.58 < rem['lat']) & (rem['lat'] < 38.083)) \n",
    "                      & \n",
    "                    ((138.75 < rem['lon']) & (rem['lon'] < 141.25)))]\n",
    "after = len(rem)\n",
    "discarded = before - after\n",
    "\n",
    "japan_korea   = rem[((28.876 < rem['lat']) & (rem['lat'] < 47.46)) \n",
    "                      & \n",
    "                    ((117.675 < rem['lon']) & (rem['lon'] < 160))]\n",
    "\n",
    "rem           = rem[~(((28.876 < rem['lat']) & (rem['lat'] < 47.46)) \n",
    "                      & \n",
    "                    ((117.675 < rem['lon']) & (rem['lon'] < 160)))]\n",
    "\n",
    "australia     = rem[((-50 < rem['lat']) & (rem['lat'] < -10)) \n",
    "                      & \n",
    "                    ((105 < rem['lon']) & (rem['lon'] < 160))]\n",
    "\n",
    "rem           = rem[~(((-50 < rem['lat']) & (rem['lat'] < -10)) \n",
    "                      & \n",
    "                    ((105 < rem['lon']) & (rem['lon'] < 160)))]\n",
    "\n",
    "w_europe      = rem[((18.5 < rem['lat']) & (rem['lat'] < 72.5)) \n",
    "                      & \n",
    "                    ((-30 < rem['lon']) & (rem['lon'] < 44))]\n",
    "\n",
    "rem           = rem[~(((18.5 < rem['lat']) & (rem['lat'] < 72.5)) \n",
    "                      & \n",
    "                    ((-30 < rem['lon']) & (rem['lon'] < 44)))]\n",
    "\n",
    "africa        = rem[((-40 < rem['lat']) & (rem['lat'] < 11)) \n",
    "                      & \n",
    "                    ((-25 < rem['lon']) & (rem['lon'] < 60))]\n",
    "\n",
    "rem           = rem[~(((-40 < rem['lat']) & (rem['lat'] < 11)) \n",
    "                      & \n",
    "                    ((-25 < rem['lon']) & (rem['lon'] < 60)))]\n",
    "\n",
    "elsewhere     = rem"
   ]
  },
  {
   "cell_type": "code",
   "execution_count": 10,
   "metadata": {},
   "outputs": [
    {
     "name": "stdout",
     "output_type": "stream",
     "text": [
      "Point Distribution among Regions:\n",
      "\n",
      "North America:                   20020113\n",
      "South America:                   289636\n",
      "Japan and South Korea:           31819071\n",
      "Australia:                       1396507\n",
      "Western Europe:                  24888188\n",
      "(Most of) Africa:                832130\n",
      "Proximate to Fukushima Meltdown: 18747474\n",
      "Everywhere else:                 4945011\n",
      "Total:                           102938130\n",
      "\n",
      "\n",
      "Subtracting the points proximate to the Fukushima meltdown, we are left with \n",
      " \n",
      "                             84190656\n"
     ]
    }
   ],
   "source": [
    "sum = len(north_america)+len(south_america)+len(japan_korea)+len(australia)+len(w_europe)+len(africa)+len(elsewhere)+discarded\n",
    "print(\"Point Distribution among Regions:\\n\")\n",
    "print(\"North America:                   \" + str(len(north_america)))\n",
    "print(\"South America:                   \" + str(len(south_america)))\n",
    "print(\"Japan and South Korea:           \" + str(len(japan_korea)))\n",
    "print(\"Australia:                       \" + str(len(australia)))\n",
    "print(\"Western Europe:                  \" + str(len(w_europe)))\n",
    "print(\"(Most of) Africa:                \" + str(len(africa)))\n",
    "print(\"Proximate to Fukushima Meltdown: \" + str(discarded))\n",
    "print(\"Everywhere else:                 \" + str(len(elsewhere)))\n",
    "print(\"Total:                           \" + str(sum) + \"\\n\")\n",
    "print(\\\n",
    "'''\n",
    "Subtracting the points proximate to the Fukushima meltdown, we are left with \n",
    " \n",
    "                             ''' + str(sum - discarded))"
   ]
  },
  {
   "cell_type": "code",
   "execution_count": 14,
   "metadata": {},
   "outputs": [
    {
     "name": "stdout",
     "output_type": "stream",
     "text": [
      "[########################################] | 100% Completed |  4.5s\n",
      "[########################################] | 100% Completed |  6.6s\n",
      "[########################################] | 100% Completed |  0.7s\n",
      "[########################################] | 100% Completed |  5.1s\n",
      "[########################################] | 100% Completed |  1.4s\n"
     ]
    }
   ],
   "source": [
    "with dask.config.set(scheduler='processes', optimize_graph=True):\n",
    "    to_parquet( dd.from_pandas(north_america, npartitions=18), \n",
    "                '/home/ec2-user/Phys18Conf_1/data_files/split/north-america/',\n",
    "                compute=True,\n",
    "              )\n",
    "    south_america.to_parquet('/home/ec2-user/Phys18Conf_1/data_files/split/south-america/south-america.parquet',\n",
    "                             engine='fastparquet',\n",
    "                             compression=None)\n",
    "    to_parquet( dd.from_pandas(japan_korea, npartitions=36), \n",
    "                '/home/ec2-user/Phys18Conf_1/data_files/split/japan-korea/',\n",
    "                compute=True,\n",
    "              )\n",
    "    to_parquet( dd.from_pandas(australia, npartitions=2),\n",
    "                '/home/ec2-user/Phys18Conf_1/data_files/split/australia/',\n",
    "                compute=True,\n",
    "              )\n",
    "    to_parquet( dd.from_pandas(w_europe, npartitions=27),\n",
    "                '/home/ec2-user/Phys18Conf_1/data_files/split/western-europe/',\n",
    "                compute=True\n",
    "              )\n",
    "    africa.to_parquet('/home/ec2-user/Phys18Conf_1/data_files/split/africa/africa.parquet',\n",
    "                      engine='fastparquet',\n",
    "                      compression=None)\n",
    "    to_parquet( dd.from_pandas(elsewhere, npartitions=6),\n",
    "                '/home/ec2-user/Phys18Conf_1/data_files/split/elsewhere/',\n",
    "                compute=True,\n",
    "              )"
   ]
  },
  {
   "cell_type": "markdown",
   "metadata": {},
   "source": [
    "Believing `hdbscan.HDBSCAN` to be slow from my prior experience, I tried `sklearn.cluster.DBSCAN` instead.  To my pleasant surprise, although `DBSCAN` utilized closer to 50% of my CPU while `HDBSCAN` utilized closer to 10%, `HDBSCAN` finished much faster: `DBSCAN` took 8-10 minutes (I forgot to time it exactly) while `HDBSCAN` took only 2:15!"
   ]
  },
  {
   "cell_type": "code",
   "execution_count": 12,
   "metadata": {},
   "outputs": [
    {
     "data": {
      "text/plain": [
       "['/home/ec2-user/Phys18Conf_1/data_files/pickles/south-america-clustering-1.pkl']"
      ]
     },
     "execution_count": 12,
     "metadata": {},
     "output_type": "execute_result"
    }
   ],
   "source": [
    "south_america = pd.read_parquet('/home/ec2-user/Phys18Conf_1/data_files/split/south-america/south-america.parquet', engine='fastparquet')\n",
    "south_america_clusterer = DBSCAN(eps=8.04672/6371., min_samples=15, metric='haversine', algorithm='ball_tree', n_jobs=-1)\n",
    "south_america_clusterer.fit(np.radians(south_america[['lat', 'lon']].values))\n",
    "dump(south_america_clusterer, '/home/ec2-user/Phys18Conf_1/data_files/pickles/south-america-clustering-1.pkl')"
   ]
  },
  {
   "cell_type": "code",
   "execution_count": 14,
   "metadata": {
    "collapsed": true
   },
   "outputs": [
    {
     "name": "stderr",
     "output_type": "stream",
     "text": [
      "/home/ec2-user/miniconda3/envs/rad/lib/python3.6/site-packages/sklearn/externals/joblib/parallel.py:268: DeprecationWarning: check_pickle is deprecated in joblib 0.12 and will be removed in 0.13\n",
      "  ' removed in 0.13', DeprecationWarning)\n",
      "/home/ec2-user/miniconda3/envs/rad/lib/python3.6/site-packages/sklearn/externals/joblib/parallel.py:268: DeprecationWarning: check_pickle is deprecated in joblib 0.12 and will be removed in 0.13\n",
      "  ' removed in 0.13', DeprecationWarning)\n",
      "/home/ec2-user/miniconda3/envs/rad/lib/python3.6/site-packages/sklearn/externals/joblib/parallel.py:268: DeprecationWarning: check_pickle is deprecated in joblib 0.12 and will be removed in 0.13\n",
      "  ' removed in 0.13', DeprecationWarning)\n",
      "/home/ec2-user/miniconda3/envs/rad/lib/python3.6/site-packages/sklearn/externals/joblib/parallel.py:268: DeprecationWarning: check_pickle is deprecated in joblib 0.12 and will be removed in 0.13\n",
      "  ' removed in 0.13', DeprecationWarning)\n"
     ]
    },
    {
     "name": "stdout",
     "output_type": "stream",
     "text": [
      "CPU times: user 2min 15s, sys: 0 ns, total: 2min 15s\n",
      "Wall time: 2min 5s\n"
     ]
    }
   ],
   "source": [
    "%%time\n",
    "south_america_hdbscan_trial = hdbscan.HDBSCAN(min_cluster_size=100, min_samples=20, metric='haversine', core_dist_n_jobs=-1)\n",
    "south_america_hdbscan_trial.fit(np.radians(south_america[['lat', 'lon']].values))\n",
    "dump(south_america_hdbscan_trial, '/home/ec2-user/Phys18Conf_1/data_files/pickles/south-america-hdbscan-test-2.pkl')"
   ]
  },
  {
   "cell_type": "markdown",
   "metadata": {},
   "source": [
    "More importantly, hdbscan clustered better.  As can be seen by inspecting the full cluster enumerations (`cluster_label: cluster_size`) and descriptive statistics below, hdbscan produced far more numerous (801 versus dbscan's 85!) and more consistently sized clusters (a `cluster_label` of `-1` indicates a noise point):"
   ]
  },
  {
   "cell_type": "code",
   "execution_count": 25,
   "metadata": {
    "scrolled": true
   },
   "outputs": [
    {
     "data": {
      "text/plain": [
       "{-1: 12607,\n",
       " 0: 2782,\n",
       " 1: 3910,\n",
       " 2: 3220,\n",
       " 3: 3994,\n",
       " 4: 35801,\n",
       " 5: 113,\n",
       " 6: 85,\n",
       " 7: 156,\n",
       " 8: 65,\n",
       " 9: 113,\n",
       " 10: 108,\n",
       " 11: 22,\n",
       " 12: 13136,\n",
       " 13: 370,\n",
       " 14: 49,\n",
       " 15: 27,\n",
       " 16: 24,\n",
       " 17: 65,\n",
       " 18: 60,\n",
       " 19: 18,\n",
       " 20: 60,\n",
       " 21: 63,\n",
       " 22: 24310,\n",
       " 23: 10685,\n",
       " 24: 17315,\n",
       " 25: 13761,\n",
       " 26: 1491,\n",
       " 27: 7533,\n",
       " 28: 7501,\n",
       " 29: 16379,\n",
       " 30: 2694,\n",
       " 31: 43,\n",
       " 32: 87,\n",
       " 33: 15,\n",
       " 34: 21583,\n",
       " 35: 8284,\n",
       " 36: 3643,\n",
       " 37: 19169,\n",
       " 38: 820,\n",
       " 39: 23899,\n",
       " 40: 5869,\n",
       " 41: 180,\n",
       " 42: 146,\n",
       " 43: 25,\n",
       " 44: 18,\n",
       " 45: 22,\n",
       " 46: 21,\n",
       " 47: 26,\n",
       " 48: 11,\n",
       " 49: 27,\n",
       " 50: 28,\n",
       " 51: 26,\n",
       " 52: 25,\n",
       " 53: 27,\n",
       " 54: 18,\n",
       " 55: 27,\n",
       " 56: 28,\n",
       " 57: 28,\n",
       " 58: 18,\n",
       " 59: 28,\n",
       " 60: 16,\n",
       " 61: 28,\n",
       " 62: 19,\n",
       " 63: 24,\n",
       " 64: 15,\n",
       " 65: 16,\n",
       " 66: 46,\n",
       " 67: 27,\n",
       " 68: 18,\n",
       " 69: 27,\n",
       " 70: 21,\n",
       " 71: 26,\n",
       " 72: 27,\n",
       " 73: 28,\n",
       " 74: 29,\n",
       " 75: 27,\n",
       " 76: 52,\n",
       " 77: 26,\n",
       " 78: 18,\n",
       " 79: 28,\n",
       " 80: 28,\n",
       " 81: 6205,\n",
       " 82: 7486,\n",
       " 83: 848,\n",
       " 84: 10837,\n",
       " 85: 1056}"
      ]
     },
     "execution_count": 25,
     "metadata": {},
     "output_type": "execute_result"
    }
   ],
   "source": [
    "# DBSCAN - CLUSTERS\n",
    "unique, counts = np.unique(south_america_clusterer.labels_, return_counts=True)\n",
    "dict(zip(unique, counts))    "
   ]
  },
  {
   "cell_type": "code",
   "execution_count": 27,
   "metadata": {},
   "outputs": [
    {
     "name": "stdout",
     "output_type": "stream",
     "text": [
      "Mean:   3329.1494252873563\n",
      "Median: 49.0\n"
     ]
    }
   ],
   "source": [
    "# DBSCAN - MEAN AND MEDIAN CLUSTER SIZE\n",
    "print('Mean:   ' + str(np.mean(counts)))\n",
    "print('Median: ' + str(np.median(counts)))"
   ]
  },
  {
   "cell_type": "code",
   "execution_count": 28,
   "metadata": {},
   "outputs": [
    {
     "data": {
      "text/plain": [
       "{-1: 56517,\n",
       " 0: 1491,\n",
       " 1: 2120,\n",
       " 2: 271,\n",
       " 3: 1876,\n",
       " 4: 245,\n",
       " 5: 125,\n",
       " 6: 411,\n",
       " 7: 132,\n",
       " 8: 397,\n",
       " 9: 236,\n",
       " 10: 563,\n",
       " 11: 151,\n",
       " 12: 307,\n",
       " 13: 289,\n",
       " 14: 698,\n",
       " 15: 140,\n",
       " 16: 1196,\n",
       " 17: 397,\n",
       " 18: 855,\n",
       " 19: 103,\n",
       " 20: 557,\n",
       " 21: 267,\n",
       " 22: 256,\n",
       " 23: 264,\n",
       " 24: 371,\n",
       " 25: 204,\n",
       " 26: 200,\n",
       " 27: 217,\n",
       " 28: 727,\n",
       " 29: 375,\n",
       " 30: 161,\n",
       " 31: 293,\n",
       " 32: 112,\n",
       " 33: 331,\n",
       " 34: 212,\n",
       " 35: 193,\n",
       " 36: 111,\n",
       " 37: 105,\n",
       " 38: 274,\n",
       " 39: 109,\n",
       " 40: 208,\n",
       " 41: 406,\n",
       " 42: 253,\n",
       " 43: 256,\n",
       " 44: 362,\n",
       " 45: 331,\n",
       " 46: 405,\n",
       " 47: 277,\n",
       " 48: 229,\n",
       " 49: 162,\n",
       " 50: 175,\n",
       " 51: 126,\n",
       " 52: 224,\n",
       " 53: 369,\n",
       " 54: 417,\n",
       " 55: 120,\n",
       " 56: 374,\n",
       " 57: 185,\n",
       " 58: 168,\n",
       " 59: 254,\n",
       " 60: 163,\n",
       " 61: 907,\n",
       " 62: 103,\n",
       " 63: 118,\n",
       " 64: 247,\n",
       " 65: 168,\n",
       " 66: 338,\n",
       " 67: 345,\n",
       " 68: 187,\n",
       " 69: 186,\n",
       " 70: 295,\n",
       " 71: 152,\n",
       " 72: 258,\n",
       " 73: 285,\n",
       " 74: 199,\n",
       " 75: 247,\n",
       " 76: 187,\n",
       " 77: 123,\n",
       " 78: 139,\n",
       " 79: 227,\n",
       " 80: 469,\n",
       " 81: 148,\n",
       " 82: 133,\n",
       " 83: 119,\n",
       " 84: 154,\n",
       " 85: 442,\n",
       " 86: 208,\n",
       " 87: 109,\n",
       " 88: 112,\n",
       " 89: 105,\n",
       " 90: 264,\n",
       " 91: 288,\n",
       " 92: 206,\n",
       " 93: 149,\n",
       " 94: 305,\n",
       " 95: 312,\n",
       " 96: 131,\n",
       " 97: 129,\n",
       " 98: 113,\n",
       " 99: 757,\n",
       " 100: 222,\n",
       " 101: 110,\n",
       " 102: 820,\n",
       " 103: 337,\n",
       " 104: 204,\n",
       " 105: 372,\n",
       " 106: 303,\n",
       " 107: 171,\n",
       " 108: 107,\n",
       " 109: 303,\n",
       " 110: 600,\n",
       " 111: 139,\n",
       " 112: 137,\n",
       " 113: 752,\n",
       " 114: 224,\n",
       " 115: 147,\n",
       " 116: 169,\n",
       " 117: 361,\n",
       " 118: 134,\n",
       " 119: 122,\n",
       " 120: 380,\n",
       " 121: 181,\n",
       " 122: 745,\n",
       " 123: 446,\n",
       " 124: 125,\n",
       " 125: 496,\n",
       " 126: 106,\n",
       " 127: 230,\n",
       " 128: 282,\n",
       " 129: 171,\n",
       " 130: 281,\n",
       " 131: 438,\n",
       " 132: 273,\n",
       " 133: 220,\n",
       " 134: 100,\n",
       " 135: 310,\n",
       " 136: 187,\n",
       " 137: 189,\n",
       " 138: 426,\n",
       " 139: 315,\n",
       " 140: 717,\n",
       " 141: 146,\n",
       " 142: 251,\n",
       " 143: 314,\n",
       " 144: 313,\n",
       " 145: 152,\n",
       " 146: 112,\n",
       " 147: 404,\n",
       " 148: 320,\n",
       " 149: 3959,\n",
       " 150: 161,\n",
       " 151: 408,\n",
       " 152: 137,\n",
       " 153: 336,\n",
       " 154: 439,\n",
       " 155: 189,\n",
       " 156: 164,\n",
       " 157: 109,\n",
       " 158: 236,\n",
       " 159: 552,\n",
       " 160: 133,\n",
       " 161: 175,\n",
       " 162: 137,\n",
       " 163: 181,\n",
       " 164: 137,\n",
       " 165: 589,\n",
       " 166: 190,\n",
       " 167: 143,\n",
       " 168: 175,\n",
       " 169: 378,\n",
       " 170: 272,\n",
       " 171: 294,\n",
       " 172: 124,\n",
       " 173: 275,\n",
       " 174: 274,\n",
       " 175: 109,\n",
       " 176: 168,\n",
       " 177: 124,\n",
       " 178: 136,\n",
       " 179: 193,\n",
       " 180: 108,\n",
       " 181: 173,\n",
       " 182: 546,\n",
       " 183: 336,\n",
       " 184: 110,\n",
       " 185: 431,\n",
       " 186: 141,\n",
       " 187: 119,\n",
       " 188: 109,\n",
       " 189: 118,\n",
       " 190: 121,\n",
       " 191: 337,\n",
       " 192: 255,\n",
       " 193: 347,\n",
       " 194: 152,\n",
       " 195: 185,\n",
       " 196: 268,\n",
       " 197: 243,\n",
       " 198: 789,\n",
       " 199: 315,\n",
       " 200: 110,\n",
       " 201: 174,\n",
       " 202: 117,\n",
       " 203: 150,\n",
       " 204: 137,\n",
       " 205: 439,\n",
       " 206: 208,\n",
       " 207: 160,\n",
       " 208: 118,\n",
       " 209: 311,\n",
       " 210: 194,\n",
       " 211: 122,\n",
       " 212: 298,\n",
       " 213: 106,\n",
       " 214: 521,\n",
       " 215: 361,\n",
       " 216: 145,\n",
       " 217: 887,\n",
       " 218: 255,\n",
       " 219: 230,\n",
       " 220: 143,\n",
       " 221: 145,\n",
       " 222: 279,\n",
       " 223: 113,\n",
       " 224: 331,\n",
       " 225: 220,\n",
       " 226: 480,\n",
       " 227: 144,\n",
       " 228: 310,\n",
       " 229: 331,\n",
       " 230: 391,\n",
       " 231: 128,\n",
       " 232: 146,\n",
       " 233: 121,\n",
       " 234: 181,\n",
       " 235: 2891,\n",
       " 236: 427,\n",
       " 237: 367,\n",
       " 238: 262,\n",
       " 239: 356,\n",
       " 240: 200,\n",
       " 241: 953,\n",
       " 242: 223,\n",
       " 243: 383,\n",
       " 244: 229,\n",
       " 245: 188,\n",
       " 246: 156,\n",
       " 247: 279,\n",
       " 248: 112,\n",
       " 249: 748,\n",
       " 250: 167,\n",
       " 251: 207,\n",
       " 252: 246,\n",
       " 253: 250,\n",
       " 254: 314,\n",
       " 255: 170,\n",
       " 256: 198,\n",
       " 257: 214,\n",
       " 258: 474,\n",
       " 259: 219,\n",
       " 260: 410,\n",
       " 261: 213,\n",
       " 262: 120,\n",
       " 263: 299,\n",
       " 264: 318,\n",
       " 265: 262,\n",
       " 266: 336,\n",
       " 267: 127,\n",
       " 268: 108,\n",
       " 269: 334,\n",
       " 270: 136,\n",
       " 271: 331,\n",
       " 272: 258,\n",
       " 273: 111,\n",
       " 274: 440,\n",
       " 275: 162,\n",
       " 276: 186,\n",
       " 277: 193,\n",
       " 278: 441,\n",
       " 279: 124,\n",
       " 280: 234,\n",
       " 281: 250,\n",
       " 282: 268,\n",
       " 283: 221,\n",
       " 284: 395,\n",
       " 285: 128,\n",
       " 286: 235,\n",
       " 287: 196,\n",
       " 288: 239,\n",
       " 289: 288,\n",
       " 290: 656,\n",
       " 291: 570,\n",
       " 292: 153,\n",
       " 293: 217,\n",
       " 294: 430,\n",
       " 295: 179,\n",
       " 296: 106,\n",
       " 297: 333,\n",
       " 298: 168,\n",
       " 299: 116,\n",
       " 300: 146,\n",
       " 301: 798,\n",
       " 302: 351,\n",
       " 303: 810,\n",
       " 304: 101,\n",
       " 305: 257,\n",
       " 306: 245,\n",
       " 307: 775,\n",
       " 308: 116,\n",
       " 309: 552,\n",
       " 310: 238,\n",
       " 311: 294,\n",
       " 312: 302,\n",
       " 313: 220,\n",
       " 314: 1149,\n",
       " 315: 161,\n",
       " 316: 481,\n",
       " 317: 110,\n",
       " 318: 376,\n",
       " 319: 361,\n",
       " 320: 130,\n",
       " 321: 701,\n",
       " 322: 102,\n",
       " 323: 382,\n",
       " 324: 309,\n",
       " 325: 198,\n",
       " 326: 295,\n",
       " 327: 111,\n",
       " 328: 244,\n",
       " 329: 210,\n",
       " 330: 135,\n",
       " 331: 497,\n",
       " 332: 226,\n",
       " 333: 582,\n",
       " 334: 426,\n",
       " 335: 298,\n",
       " 336: 106,\n",
       " 337: 109,\n",
       " 338: 224,\n",
       " 339: 425,\n",
       " 340: 129,\n",
       " 341: 119,\n",
       " 342: 471,\n",
       " 343: 169,\n",
       " 344: 100,\n",
       " 345: 285,\n",
       " 346: 304,\n",
       " 347: 145,\n",
       " 348: 211,\n",
       " 349: 275,\n",
       " 350: 495,\n",
       " 351: 357,\n",
       " 352: 169,\n",
       " 353: 179,\n",
       " 354: 299,\n",
       " 355: 1782,\n",
       " 356: 365,\n",
       " 357: 118,\n",
       " 358: 155,\n",
       " 359: 220,\n",
       " 360: 113,\n",
       " 361: 261,\n",
       " 362: 155,\n",
       " 363: 493,\n",
       " 364: 315,\n",
       " 365: 976,\n",
       " 366: 421,\n",
       " 367: 130,\n",
       " 368: 112,\n",
       " 369: 106,\n",
       " 370: 436,\n",
       " 371: 239,\n",
       " 372: 138,\n",
       " 373: 501,\n",
       " 374: 950,\n",
       " 375: 123,\n",
       " 376: 281,\n",
       " 377: 110,\n",
       " 378: 414,\n",
       " 379: 187,\n",
       " 380: 763,\n",
       " 381: 675,\n",
       " 382: 468,\n",
       " 383: 116,\n",
       " 384: 136,\n",
       " 385: 306,\n",
       " 386: 203,\n",
       " 387: 338,\n",
       " 388: 286,\n",
       " 389: 364,\n",
       " 390: 216,\n",
       " 391: 474,\n",
       " 392: 252,\n",
       " 393: 197,\n",
       " 394: 154,\n",
       " 395: 252,\n",
       " 396: 216,\n",
       " 397: 299,\n",
       " 398: 455,\n",
       " 399: 676,\n",
       " 400: 338,\n",
       " 401: 375,\n",
       " 402: 308,\n",
       " 403: 464,\n",
       " 404: 349,\n",
       " 405: 132,\n",
       " 406: 211,\n",
       " 407: 573,\n",
       " 408: 115,\n",
       " 409: 213,\n",
       " 410: 267,\n",
       " 411: 168,\n",
       " 412: 456,\n",
       " 413: 1308,\n",
       " 414: 206,\n",
       " 415: 403,\n",
       " 416: 371,\n",
       " 417: 209,\n",
       " 418: 204,\n",
       " 419: 307,\n",
       " 420: 235,\n",
       " 421: 167,\n",
       " 422: 117,\n",
       " 423: 343,\n",
       " 424: 254,\n",
       " 425: 285,\n",
       " 426: 127,\n",
       " 427: 254,\n",
       " 428: 100,\n",
       " 429: 178,\n",
       " 430: 119,\n",
       " 431: 339,\n",
       " 432: 679,\n",
       " 433: 170,\n",
       " 434: 224,\n",
       " 435: 116,\n",
       " 436: 506,\n",
       " 437: 199,\n",
       " 438: 243,\n",
       " 439: 239,\n",
       " 440: 165,\n",
       " 441: 444,\n",
       " 442: 264,\n",
       " 443: 432,\n",
       " 444: 583,\n",
       " 445: 399,\n",
       " 446: 298,\n",
       " 447: 199,\n",
       " 448: 200,\n",
       " 449: 201,\n",
       " 450: 336,\n",
       " 451: 371,\n",
       " 452: 115,\n",
       " 453: 280,\n",
       " 454: 341,\n",
       " 455: 121,\n",
       " 456: 1039,\n",
       " 457: 117,\n",
       " 458: 335,\n",
       " 459: 169,\n",
       " 460: 128,\n",
       " 461: 152,\n",
       " 462: 153,\n",
       " 463: 112,\n",
       " 464: 135,\n",
       " 465: 236,\n",
       " 466: 605,\n",
       " 467: 293,\n",
       " 468: 229,\n",
       " 469: 875,\n",
       " 470: 206,\n",
       " 471: 112,\n",
       " 472: 153,\n",
       " 473: 785,\n",
       " 474: 347,\n",
       " 475: 272,\n",
       " 476: 448,\n",
       " 477: 103,\n",
       " 478: 280,\n",
       " 479: 259,\n",
       " 480: 100,\n",
       " 481: 239,\n",
       " 482: 124,\n",
       " 483: 161,\n",
       " 484: 165,\n",
       " 485: 268,\n",
       " 486: 482,\n",
       " 487: 269,\n",
       " 488: 226,\n",
       " 489: 233,\n",
       " 490: 978,\n",
       " 491: 117,\n",
       " 492: 111,\n",
       " 493: 232,\n",
       " 494: 301,\n",
       " 495: 376,\n",
       " 496: 179,\n",
       " 497: 361,\n",
       " 498: 263,\n",
       " 499: 108,\n",
       " 500: 530,\n",
       " 501: 779,\n",
       " 502: 103,\n",
       " 503: 254,\n",
       " 504: 184,\n",
       " 505: 117,\n",
       " 506: 158,\n",
       " 507: 395,\n",
       " 508: 359,\n",
       " 509: 363,\n",
       " 510: 164,\n",
       " 511: 110,\n",
       " 512: 289,\n",
       " 513: 204,\n",
       " 514: 123,\n",
       " 515: 580,\n",
       " 516: 122,\n",
       " 517: 223,\n",
       " 518: 319,\n",
       " 519: 160,\n",
       " 520: 281,\n",
       " 521: 246,\n",
       " 522: 271,\n",
       " 523: 122,\n",
       " 524: 116,\n",
       " 525: 139,\n",
       " 526: 363,\n",
       " 527: 145,\n",
       " 528: 924,\n",
       " 529: 228,\n",
       " 530: 166,\n",
       " 531: 252,\n",
       " 532: 304,\n",
       " 533: 413,\n",
       " 534: 322,\n",
       " 535: 136,\n",
       " 536: 293,\n",
       " 537: 507,\n",
       " 538: 129,\n",
       " 539: 128,\n",
       " 540: 195,\n",
       " 541: 279,\n",
       " 542: 123,\n",
       " 543: 120,\n",
       " 544: 222,\n",
       " 545: 109,\n",
       " 546: 255,\n",
       " 547: 403,\n",
       " 548: 462,\n",
       " 549: 509,\n",
       " 550: 137,\n",
       " 551: 165,\n",
       " 552: 113,\n",
       " 553: 163,\n",
       " 554: 524,\n",
       " 555: 316,\n",
       " 556: 252,\n",
       " 557: 291,\n",
       " 558: 225,\n",
       " 559: 180,\n",
       " 560: 205,\n",
       " 561: 201,\n",
       " 562: 102,\n",
       " 563: 291,\n",
       " 564: 454,\n",
       " 565: 132,\n",
       " 566: 126,\n",
       " 567: 287,\n",
       " 568: 231,\n",
       " 569: 115,\n",
       " 570: 131,\n",
       " 571: 156,\n",
       " 572: 806,\n",
       " 573: 114,\n",
       " 574: 190,\n",
       " 575: 116,\n",
       " 576: 126,\n",
       " 577: 113,\n",
       " 578: 168,\n",
       " 579: 433,\n",
       " 580: 212,\n",
       " 581: 188,\n",
       " 582: 305,\n",
       " 583: 354,\n",
       " 584: 1014,\n",
       " 585: 119,\n",
       " 586: 115,\n",
       " 587: 148,\n",
       " 588: 347,\n",
       " 589: 117,\n",
       " 590: 107,\n",
       " 591: 567,\n",
       " 592: 144,\n",
       " 593: 100,\n",
       " 594: 284,\n",
       " 595: 383,\n",
       " 596: 297,\n",
       " 597: 215,\n",
       " 598: 1179,\n",
       " 599: 118,\n",
       " 600: 143,\n",
       " 601: 186,\n",
       " 602: 186,\n",
       " 603: 123,\n",
       " 604: 109,\n",
       " 605: 239,\n",
       " 606: 299,\n",
       " 607: 131,\n",
       " 608: 103,\n",
       " 609: 152,\n",
       " 610: 158,\n",
       " 611: 118,\n",
       " 612: 1000,\n",
       " 613: 106,\n",
       " 614: 271,\n",
       " 615: 428,\n",
       " 616: 376,\n",
       " 617: 151,\n",
       " 618: 338,\n",
       " 619: 303,\n",
       " 620: 156,\n",
       " 621: 190,\n",
       " 622: 145,\n",
       " 623: 120,\n",
       " 624: 139,\n",
       " 625: 206,\n",
       " 626: 110,\n",
       " 627: 246,\n",
       " 628: 262,\n",
       " 629: 103,\n",
       " 630: 383,\n",
       " 631: 198,\n",
       " 632: 257,\n",
       " 633: 124,\n",
       " 634: 118,\n",
       " 635: 329,\n",
       " 636: 254,\n",
       " 637: 264,\n",
       " 638: 209,\n",
       " 639: 335,\n",
       " 640: 166,\n",
       " 641: 519,\n",
       " 642: 257,\n",
       " 643: 184,\n",
       " 644: 209,\n",
       " 645: 299,\n",
       " 646: 211,\n",
       " 647: 842,\n",
       " 648: 396,\n",
       " 649: 241,\n",
       " 650: 263,\n",
       " 651: 129,\n",
       " 652: 312,\n",
       " 653: 167,\n",
       " 654: 193,\n",
       " 655: 321,\n",
       " 656: 117,\n",
       " 657: 137,\n",
       " 658: 232,\n",
       " 659: 312,\n",
       " 660: 103,\n",
       " 661: 154,\n",
       " 662: 165,\n",
       " 663: 108,\n",
       " 664: 174,\n",
       " 665: 175,\n",
       " 666: 152,\n",
       " 667: 170,\n",
       " 668: 185,\n",
       " 669: 166,\n",
       " 670: 141,\n",
       " 671: 383,\n",
       " 672: 160,\n",
       " 673: 145,\n",
       " 674: 125,\n",
       " 675: 358,\n",
       " 676: 175,\n",
       " 677: 176,\n",
       " 678: 357,\n",
       " 679: 114,\n",
       " 680: 685,\n",
       " 681: 127,\n",
       " 682: 210,\n",
       " 683: 446,\n",
       " 684: 175,\n",
       " 685: 103,\n",
       " 686: 115,\n",
       " 687: 165,\n",
       " 688: 173,\n",
       " 689: 361,\n",
       " 690: 126,\n",
       " 691: 212,\n",
       " 692: 107,\n",
       " 693: 434,\n",
       " 694: 221,\n",
       " 695: 222,\n",
       " 696: 173,\n",
       " 697: 196,\n",
       " 698: 239,\n",
       " 699: 290,\n",
       " 700: 525,\n",
       " 701: 270,\n",
       " 702: 190,\n",
       " 703: 256,\n",
       " 704: 105,\n",
       " 705: 134,\n",
       " 706: 103,\n",
       " 707: 137,\n",
       " 708: 195,\n",
       " 709: 110,\n",
       " 710: 313,\n",
       " 711: 169,\n",
       " 712: 450,\n",
       " 713: 114,\n",
       " 714: 844,\n",
       " 715: 1025,\n",
       " 716: 1086,\n",
       " 717: 114,\n",
       " 718: 370,\n",
       " 719: 103,\n",
       " 720: 295,\n",
       " 721: 141,\n",
       " 722: 342,\n",
       " 723: 118,\n",
       " 724: 142,\n",
       " 725: 313,\n",
       " 726: 110,\n",
       " 727: 224,\n",
       " 728: 278,\n",
       " 729: 156,\n",
       " 730: 317,\n",
       " 731: 437,\n",
       " 732: 245,\n",
       " 733: 360,\n",
       " 734: 155,\n",
       " 735: 435,\n",
       " 736: 280,\n",
       " 737: 285,\n",
       " 738: 265,\n",
       " 739: 156,\n",
       " 740: 143,\n",
       " 741: 201,\n",
       " 742: 340,\n",
       " 743: 230,\n",
       " 744: 126,\n",
       " 745: 141,\n",
       " 746: 113,\n",
       " 747: 364,\n",
       " 748: 108,\n",
       " 749: 210,\n",
       " 750: 134,\n",
       " 751: 2753,\n",
       " 752: 180,\n",
       " 753: 112,\n",
       " 754: 208,\n",
       " 755: 105,\n",
       " 756: 370,\n",
       " 757: 102,\n",
       " 758: 284,\n",
       " 759: 227,\n",
       " 760: 388,\n",
       " 761: 113,\n",
       " 762: 130,\n",
       " 763: 106,\n",
       " 764: 158,\n",
       " 765: 271,\n",
       " 766: 279,\n",
       " 767: 560,\n",
       " 768: 135,\n",
       " 769: 137,\n",
       " 770: 139,\n",
       " 771: 228,\n",
       " 772: 181,\n",
       " 773: 144,\n",
       " 774: 267,\n",
       " 775: 606,\n",
       " 776: 200,\n",
       " 777: 884,\n",
       " 778: 314,\n",
       " 779: 135,\n",
       " 780: 169,\n",
       " 781: 117,\n",
       " 782: 275,\n",
       " 783: 173,\n",
       " 784: 184,\n",
       " 785: 276,\n",
       " 786: 319,\n",
       " 787: 282,\n",
       " 788: 347,\n",
       " 789: 125,\n",
       " 790: 245,\n",
       " 791: 403,\n",
       " 792: 189,\n",
       " 793: 455,\n",
       " 794: 115,\n",
       " 795: 575,\n",
       " 796: 100,\n",
       " 797: 111,\n",
       " 798: 318,\n",
       " 799: 125,\n",
       " 800: 144,\n",
       " 801: 337}"
      ]
     },
     "execution_count": 28,
     "metadata": {},
     "output_type": "execute_result"
    }
   ],
   "source": [
    "# HDBSCAN - CLUSTERS\n",
    "unique, counts = np.unique(south_america_hdbscan_trial.labels_, return_counts=True)\n",
    "dict(zip(unique, counts))"
   ]
  },
  {
   "cell_type": "code",
   "execution_count": 29,
   "metadata": {},
   "outputs": [
    {
     "name": "stdout",
     "output_type": "stream",
     "text": [
      "Mean:   360.69240348692404\n",
      "Median: 223.0\n"
     ]
    }
   ],
   "source": [
    "# HDBSCAN - MEAN AND MEDIAN CLUSTER SIZE\n",
    "print('Mean:   ' + str(np.mean(counts)))\n",
    "print('Median: ' + str(np.median(counts)))"
   ]
  },
  {
   "cell_type": "markdown",
   "metadata": {},
   "source": [
    "The fitted HDBSCAN object gives us two values for each observation: the cluster that the entry belongs to (`label`) and the  probability of its membership in that cluster (`prob`).  I first join these two columns to the `south_america` dataframe and drop the noise points; this removes `289636 - 233119 = 56517` points:"
   ]
  },
  {
   "cell_type": "code",
   "execution_count": 140,
   "metadata": {},
   "outputs": [
    {
     "data": {
      "text/plain": [
       "233119"
      ]
     },
     "execution_count": 140,
     "metadata": {},
     "output_type": "execute_result"
    }
   ],
   "source": [
    "south_america_cluster_data = pd.DataFrame({'label':south_america_hdbscan_trial.labels_, 'prob':south_america_hdbscan_trial.probabilities_})\n",
    "south_america.reset_index(drop=True, inplace=True)\n",
    "south_america_plus = south_america.join(south_america_cluster_data, how='inner')\n",
    "south_america_plus = south_america_plus[south_america_plus['label'] != -1]\n",
    "len(south_america_plus)"
   ]
  },
  {
   "cell_type": "markdown",
   "metadata": {},
   "source": [
    "I then sort the values by decreasing probability and convert the `prob` column's values to the value of each row's cumulative sum dividid by the total sum (normalization).   "
   ]
  },
  {
   "cell_type": "code",
   "execution_count": 141,
   "metadata": {},
   "outputs": [],
   "source": [
    "total = south_america_plus['prob'].sum()\n",
    "south_america_plus.sort_values(by='prob', ascending=False, inplace=True)\n",
    "south_america_plus.loc[:, 'prob'] = south_america_plus['prob'].cumsum()\n",
    "south_america_plus.loc[:, 'prob'] = south_america_plus['prob'] / total"
   ]
  },
  {
   "cell_type": "markdown",
   "metadata": {},
   "source": [
    "The density plot below then shows that most values contribute equally (the central plateau); the contribution begins to decline at 75% of the total probability; and the dense area of negligible probability really spikes after about 90% of total probability mass has been accumulated:"
   ]
  },
  {
   "cell_type": "code",
   "execution_count": 151,
   "metadata": {},
   "outputs": [
    {
     "data": {
      "text/plain": [
       "<matplotlib.axes._subplots.AxesSubplot at 0x7f048d116b38>"
      ]
     },
     "execution_count": 151,
     "metadata": {},
     "output_type": "execute_result"
    },
    {
     "data": {
      "image/png": "[encoded data removed]",
      "text/plain": [
       "<Figure size 432x288 with 1 Axes>"
      ]
     },
     "metadata": {
      "needs_background": "light"
     },
     "output_type": "display_data"
    }
   ],
   "source": [
    "%matplotlib inline\n",
    "south_america_plus['prob'].plot(kind='density')"
   ]
  },
  {
   "cell_type": "markdown",
   "metadata": {},
   "source": [
    "The cells below provide a geographic perspective on how much area each of these cells actually covers.  The median value is exceptionally targeted: at the equator where latitudes and longitudes are each roughly 69 miles each, a `0.007*0.008` area is just under 0.3 square miles.  (This only gets smaller as one travels to the poles).  These median values are, however, significantly smaller than the averages.  Nonetheless,  "
   ]
  },
  {
   "cell_type": "code",
   "execution_count": 155,
   "metadata": {},
   "outputs": [
    {
     "name": "stdout",
     "output_type": "stream",
     "text": [
      "Average latitudinal span:  0.19990640482127803\n",
      "Average longitudinal span: 0.13334443474646707\n"
     ]
    }
   ],
   "source": [
    "south_america_plus = south_america_plus[south_america_plus['prob'] < 0.9]\n",
    "lat_sum, lon_sum = 0, 0\n",
    "num_labels = south_america_plus['label'].max() + 1\n",
    "for i in range(num_labels):\n",
    "    df = south_america_plus[south_america_plus['label'] == i]\n",
    "    lat_sum += abs(df['lat'].max() - df['lat'].min())\n",
    "    lon_sum += abs(df['lon'].max() - df['lon'].min())\n",
    "lat_avg = lat_sum / num_labels\n",
    "lon_avg = lon_sum / num_labels\n",
    "print('Average latitudinal span:  ' + str(lat_avg))\n",
    "print('Average longitudinal span: ' + str(lon_avg))"
   ]
  },
  {
   "cell_type": "code",
   "execution_count": 156,
   "metadata": {},
   "outputs": [
    {
     "name": "stdout",
     "output_type": "stream",
     "text": [
      "Median latitudinal span:  0.007248333333301105\n",
      "Median longitudinal span: 0.008310000000001594\n"
     ]
    }
   ],
   "source": [
    "lats, lons = [], []\n",
    "for i in range(num_labels):\n",
    "    df = south_america_plus[south_america_plus['label'] == i]\n",
    "    lats.append(abs(df['lat'].max() - df['lat'].min()))\n",
    "    lons.append(abs(df['lon'].max() - df['lon'].min()))\n",
    "lats = np.array(lats)\n",
    "lons = np.array(lons)\n",
    "print('Median latitudinal span:  ' + str(np.median(lats)))\n",
    "print('Median longitudinal span: ' + str(np.median(lons)))"
   ]
  },
  {
   "cell_type": "code",
   "execution_count": 162,
   "metadata": {},
   "outputs": [],
   "source": [
    "south_america_plus.drop(columns='prob', inplace=True)\n",
    "south_america_plus.to_parquet('/home/ec2-user/Phys18Conf_1/data_files/south_america_spatial/south-america.parquet',\n",
    "                              engine='fastparquet', compression=None)"
   ]
  },
  {
   "cell_type": "markdown",
   "metadata": {},
   "source": [
    "After getting such a pleasing result from running hdbscan on these ~300,000 points, I hoped that the algorithm might perhaps scale, if not to the largest bins of 20-30 million, then at least to the the _next_ smallest bin--Africa--which had only 500,000 more points for a total of ~800,000.  Lo, I said \"only\" too soon.  This HDBSCAN object was not done fitting almost six hours later despite an advantageous choice of the `algorithm` parameter; it was not worth pursuing at that rate, so I canceled the operation (you can see from the box it remains unexecuted).  It is possible that the algorithm could have gone faster if it was possible to use a k-dimensional tree rather than a ball tree.  The ball tree was designed for high-dimensional spaces in particular; the k-dimensional tree likely makes better assumptions for a low-dimensional (2-d) space like ours.  I do not know enough about what these assumptions are to say how much overhead of the ball tree imposed in our case; I would assume it has some affect. `prims_kdtree` could not be used because like its predecessor implementation, `sklearn.neighbors.KDTree`, it does not support the use of Haversine distance."
   ]
  },
  {
   "cell_type": "code",
   "execution_count": null,
   "metadata": {},
   "outputs": [],
   "source": [
    "africa = pd.read_parquet('/home/ec2-user/Phys18Conf_1/data_files/split/africa/africa.parquet', engine='fastparquet')\n",
    "africa_clusterer = hdbscan.HDBSCAN(min_cluster_size=100, min_samples=20, metric='haversine', core_dist_n_jobs=-1,\n",
    "                                   algorithm='prims_balltree')\n",
    "africa_clusterer.fit(np.radians(africa[['lat', 'lon']].values))\n",
    "dump(africa_clusterer, '/home/ec2-user/Phys18Conf_1/data_files/pickles/africa-clustering-1.pkl')"
   ]
  },
  {
   "cell_type": "markdown",
   "metadata": {},
   "source": [
    "The last step of preparation for the neural network was understanding the time distribution of these clusters and seeing what I could do to fit them into a constant dimensionality.  "
   ]
  },
  {
   "cell_type": "code",
   "execution_count": null,
   "metadata": {},
   "outputs": [],
   "source": []
  },
  {
   "cell_type": "code",
   "execution_count": 13,
   "metadata": {},
   "outputs": [],
   "source": [
    "mmnts = read_parquet('/home/ec2-user/Phys18Conf_1/data_files/sixth_trim', engine='fastparquet')\n",
    "mmnts_out = mmnts.compute(scheduler='processes', optimize_graph=True)\n",
    "kdims, vdims = ['Latitude', 'Longitude'], ['Value']\n",
    "points = gv.Points(mmnts_out, kdims=kdims, vdims=vdims)\n",
    "features = gv.Overlay([gf.ocean, gf.land, gf.coastline])\n",
    "options = dict(projection=crs.InterruptedGoodeHomolosine(), width=800, height=800, size=3, color='black')\n",
    "%output backend='bokeh'\n",
    "(features * points).options('Points', **options)"
   ]
  },
  {
   "cell_type": "code",
   "execution_count": 8,
   "metadata": {
    "collapsed": true
   },
   "outputs": [
    {
     "ename": "KeyboardInterrupt",
     "evalue": "",
     "output_type": "error",
     "traceback": [
      "\u001b[0;31m---------------------------------------------------------------------------\u001b[0m",
      "\u001b[0;31mKeyboardInterrupt\u001b[0m                         Traceback (most recent call last)",
      "\u001b[0;32m<ipython-input-8-fca0fb403aa0>\u001b[0m in \u001b[0;36m<module>\u001b[0;34m\u001b[0m\n\u001b[1;32m      9\u001b[0m (gv.WMTS(tiles['Wikipedia']) *\\\n\u001b[1;32m     10\u001b[0m dataset.to(gv.Points, kdims=['Longitude', 'Latitude'],\n\u001b[0;32m---> 11\u001b[0;31m            vdims='Value', crs=crs.InterruptedGoodeHomolosine()))\n\u001b[0m",
      "\u001b[0;32m~/miniconda3/envs/rad/lib/python3.6/site-packages/geoviews/element/__init__.py\u001b[0m in \u001b[0;36m__call__\u001b[0;34m(self, *args, **kwargs)\u001b[0m\n\u001b[1;32m     37\u001b[0m                 \u001b[0margs\u001b[0m \u001b[0;34m=\u001b[0m \u001b[0;34m(\u001b[0m\u001b[0mDataset\u001b[0m\u001b[0;34m,\u001b[0m\u001b[0;34m)\u001b[0m\u001b[0;34m\u001b[0m\u001b[0;34m\u001b[0m\u001b[0m\n\u001b[1;32m     38\u001b[0m                 \u001b[0mkwargs\u001b[0m\u001b[0;34m[\u001b[0m\u001b[0;34m'kdims'\u001b[0m\u001b[0;34m]\u001b[0m \u001b[0;34m=\u001b[0m \u001b[0;34m[\u001b[0m\u001b[0;34m]\u001b[0m\u001b[0;34m\u001b[0m\u001b[0;34m\u001b[0m\u001b[0m\n\u001b[0;32m---> 39\u001b[0;31m         \u001b[0mconverted\u001b[0m \u001b[0;34m=\u001b[0m \u001b[0msuper\u001b[0m\u001b[0;34m(\u001b[0m\u001b[0mGeoConversion\u001b[0m\u001b[0;34m,\u001b[0m \u001b[0mself\u001b[0m\u001b[0;34m)\u001b[0m\u001b[0;34m.\u001b[0m\u001b[0m__call__\u001b[0m\u001b[0;34m(\u001b[0m\u001b[0;34m*\u001b[0m\u001b[0margs\u001b[0m\u001b[0;34m,\u001b[0m \u001b[0;34m**\u001b[0m\u001b[0mkwargs\u001b[0m\u001b[0;34m)\u001b[0m\u001b[0;34m\u001b[0m\u001b[0;34m\u001b[0m\u001b[0m\n\u001b[0m\u001b[1;32m     40\u001b[0m         \u001b[0;32mif\u001b[0m \u001b[0mis_gpd\u001b[0m\u001b[0;34m:\u001b[0m\u001b[0;34m\u001b[0m\u001b[0;34m\u001b[0m\u001b[0m\n\u001b[1;32m     41\u001b[0m             \u001b[0;32mif\u001b[0m \u001b[0mkdims\u001b[0m \u001b[0;32mis\u001b[0m \u001b[0;32mNone\u001b[0m\u001b[0;34m:\u001b[0m \u001b[0mkdims\u001b[0m \u001b[0;34m=\u001b[0m \u001b[0mgroup_type\u001b[0m\u001b[0;34m.\u001b[0m\u001b[0mkdims\u001b[0m\u001b[0;34m\u001b[0m\u001b[0;34m\u001b[0m\u001b[0m\n",
      "\u001b[0;32m~/miniconda3/envs/rad/lib/python3.6/site-packages/holoviews/core/data/__init__.py\u001b[0m in \u001b[0;36m__call__\u001b[0;34m(self, new_type, kdims, vdims, groupby, sort, **kwargs)\u001b[0m\n\u001b[1;32m    178\u001b[0m             \u001b[0;32mreturn\u001b[0m \u001b[0melement\u001b[0m\u001b[0;34m.\u001b[0m\u001b[0msort\u001b[0m\u001b[0;34m(\u001b[0m\u001b[0;34m)\u001b[0m \u001b[0;32mif\u001b[0m \u001b[0msort\u001b[0m \u001b[0;32melse\u001b[0m \u001b[0melement\u001b[0m\u001b[0;34m\u001b[0m\u001b[0;34m\u001b[0m\u001b[0m\n\u001b[1;32m    179\u001b[0m         group = selected.groupby(groupby, container_type=HoloMap,\n\u001b[0;32m--> 180\u001b[0;31m                                  group_type=new_type, **params)\n\u001b[0m\u001b[1;32m    181\u001b[0m         \u001b[0;32mif\u001b[0m \u001b[0msort\u001b[0m\u001b[0;34m:\u001b[0m\u001b[0;34m\u001b[0m\u001b[0;34m\u001b[0m\u001b[0m\n\u001b[1;32m    182\u001b[0m             \u001b[0;32mreturn\u001b[0m \u001b[0mgroup\u001b[0m\u001b[0;34m.\u001b[0m\u001b[0mmap\u001b[0m\u001b[0;34m(\u001b[0m\u001b[0;32mlambda\u001b[0m \u001b[0mx\u001b[0m\u001b[0;34m:\u001b[0m \u001b[0mx\u001b[0m\u001b[0;34m.\u001b[0m\u001b[0msort\u001b[0m\u001b[0;34m(\u001b[0m\u001b[0;34m)\u001b[0m\u001b[0;34m,\u001b[0m \u001b[0;34m[\u001b[0m\u001b[0mnew_type\u001b[0m\u001b[0;34m]\u001b[0m\u001b[0;34m)\u001b[0m\u001b[0;34m\u001b[0m\u001b[0;34m\u001b[0m\u001b[0m\n",
      "\u001b[0;32m~/miniconda3/envs/rad/lib/python3.6/site-packages/holoviews/core/data/__init__.py\u001b[0m in \u001b[0;36mgroupby\u001b[0;34m(self, dimensions, container_type, group_type, dynamic, **kwargs)\u001b[0m\n\u001b[1;32m    592\u001b[0m \u001b[0;34m\u001b[0m\u001b[0m\n\u001b[1;32m    593\u001b[0m         return self.interface.groupby(self, dim_names, container_type,\n\u001b[0;32m--> 594\u001b[0;31m                                       group_type, **kwargs)\n\u001b[0m\u001b[1;32m    595\u001b[0m \u001b[0;34m\u001b[0m\u001b[0m\n\u001b[1;32m    596\u001b[0m     \u001b[0;32mdef\u001b[0m \u001b[0m__len__\u001b[0m\u001b[0;34m(\u001b[0m\u001b[0mself\u001b[0m\u001b[0;34m)\u001b[0m\u001b[0;34m:\u001b[0m\u001b[0;34m\u001b[0m\u001b[0;34m\u001b[0m\u001b[0m\n",
      "\u001b[0;32m~/miniconda3/envs/rad/lib/python3.6/site-packages/holoviews/core/data/pandas.py\u001b[0m in \u001b[0;36mgroupby\u001b[0;34m(cls, columns, dimensions, container_type, group_type, **kwargs)\u001b[0m\n\u001b[1;32m    194\u001b[0m         \u001b[0mgroup_by\u001b[0m \u001b[0;34m=\u001b[0m \u001b[0;34m[\u001b[0m\u001b[0md\u001b[0m\u001b[0;34m.\u001b[0m\u001b[0mname\u001b[0m \u001b[0;32mfor\u001b[0m \u001b[0md\u001b[0m \u001b[0;32min\u001b[0m \u001b[0mindex_dims\u001b[0m\u001b[0;34m]\u001b[0m\u001b[0;34m\u001b[0m\u001b[0;34m\u001b[0m\u001b[0m\n\u001b[1;32m    195\u001b[0m         data = [(k, group_type(v, **group_kwargs)) for k, v in\n\u001b[0;32m--> 196\u001b[0;31m                 columns.data.groupby(group_by, sort=False)]\n\u001b[0m\u001b[1;32m    197\u001b[0m         \u001b[0;32mif\u001b[0m \u001b[0missubclass\u001b[0m\u001b[0;34m(\u001b[0m\u001b[0mcontainer_type\u001b[0m\u001b[0;34m,\u001b[0m \u001b[0mNdMapping\u001b[0m\u001b[0;34m)\u001b[0m\u001b[0;34m:\u001b[0m\u001b[0;34m\u001b[0m\u001b[0;34m\u001b[0m\u001b[0m\n\u001b[1;32m    198\u001b[0m             \u001b[0;32mwith\u001b[0m \u001b[0mitem_check\u001b[0m\u001b[0;34m(\u001b[0m\u001b[0;32mFalse\u001b[0m\u001b[0;34m)\u001b[0m\u001b[0;34m,\u001b[0m \u001b[0msorted_context\u001b[0m\u001b[0;34m(\u001b[0m\u001b[0;32mFalse\u001b[0m\u001b[0;34m)\u001b[0m\u001b[0;34m:\u001b[0m\u001b[0;34m\u001b[0m\u001b[0;34m\u001b[0m\u001b[0m\n",
      "\u001b[0;32m~/miniconda3/envs/rad/lib/python3.6/site-packages/holoviews/core/data/pandas.py\u001b[0m in \u001b[0;36m<listcomp>\u001b[0;34m(.0)\u001b[0m\n\u001b[1;32m    193\u001b[0m \u001b[0;34m\u001b[0m\u001b[0m\n\u001b[1;32m    194\u001b[0m         \u001b[0mgroup_by\u001b[0m \u001b[0;34m=\u001b[0m \u001b[0;34m[\u001b[0m\u001b[0md\u001b[0m\u001b[0;34m.\u001b[0m\u001b[0mname\u001b[0m \u001b[0;32mfor\u001b[0m \u001b[0md\u001b[0m \u001b[0;32min\u001b[0m \u001b[0mindex_dims\u001b[0m\u001b[0;34m]\u001b[0m\u001b[0;34m\u001b[0m\u001b[0;34m\u001b[0m\u001b[0m\n\u001b[0;32m--> 195\u001b[0;31m         data = [(k, group_type(v, **group_kwargs)) for k, v in\n\u001b[0m\u001b[1;32m    196\u001b[0m                 columns.data.groupby(group_by, sort=False)]\n\u001b[1;32m    197\u001b[0m         \u001b[0;32mif\u001b[0m \u001b[0missubclass\u001b[0m\u001b[0;34m(\u001b[0m\u001b[0mcontainer_type\u001b[0m\u001b[0;34m,\u001b[0m \u001b[0mNdMapping\u001b[0m\u001b[0;34m)\u001b[0m\u001b[0;34m:\u001b[0m\u001b[0;34m\u001b[0m\u001b[0;34m\u001b[0m\u001b[0m\n",
      "\u001b[0;32m~/miniconda3/envs/rad/lib/python3.6/site-packages/geoviews/element/geo.py\u001b[0m in \u001b[0;36m__init__\u001b[0;34m(self, data, kdims, vdims, **kwargs)\u001b[0m\n\u001b[1;32m     93\u001b[0m         \u001b[0;32melif\u001b[0m \u001b[0mcrs\u001b[0m\u001b[0;34m:\u001b[0m\u001b[0;34m\u001b[0m\u001b[0;34m\u001b[0m\u001b[0m\n\u001b[1;32m     94\u001b[0m             \u001b[0mkwargs\u001b[0m\u001b[0;34m[\u001b[0m\u001b[0;34m'crs'\u001b[0m\u001b[0;34m]\u001b[0m \u001b[0;34m=\u001b[0m \u001b[0mcrs\u001b[0m\u001b[0;34m\u001b[0m\u001b[0;34m\u001b[0m\u001b[0m\n\u001b[0;32m---> 95\u001b[0;31m         \u001b[0msuper\u001b[0m\u001b[0;34m(\u001b[0m\u001b[0m_Element\u001b[0m\u001b[0;34m,\u001b[0m \u001b[0mself\u001b[0m\u001b[0;34m)\u001b[0m\u001b[0;34m.\u001b[0m\u001b[0m__init__\u001b[0m\u001b[0;34m(\u001b[0m\u001b[0mdata\u001b[0m\u001b[0;34m,\u001b[0m \u001b[0mkdims\u001b[0m\u001b[0;34m=\u001b[0m\u001b[0mkdims\u001b[0m\u001b[0;34m,\u001b[0m \u001b[0mvdims\u001b[0m\u001b[0;34m=\u001b[0m\u001b[0mvdims\u001b[0m\u001b[0;34m,\u001b[0m \u001b[0;34m**\u001b[0m\u001b[0mkwargs\u001b[0m\u001b[0;34m)\u001b[0m\u001b[0;34m\u001b[0m\u001b[0;34m\u001b[0m\u001b[0m\n\u001b[0m\u001b[1;32m     96\u001b[0m \u001b[0;34m\u001b[0m\u001b[0m\n\u001b[1;32m     97\u001b[0m \u001b[0;34m\u001b[0m\u001b[0m\n",
      "\u001b[0;32m~/miniconda3/envs/rad/lib/python3.6/site-packages/holoviews/core/data/__init__.py\u001b[0m in \u001b[0;36m__init__\u001b[0;34m(self, data, kdims, vdims, **kwargs)\u001b[0m\n\u001b[1;32m    231\u001b[0m                                            datatype=kwargs.get('datatype'))\n\u001b[1;32m    232\u001b[0m         \u001b[0;34m(\u001b[0m\u001b[0mdata\u001b[0m\u001b[0;34m,\u001b[0m \u001b[0mself\u001b[0m\u001b[0;34m.\u001b[0m\u001b[0minterface\u001b[0m\u001b[0;34m,\u001b[0m \u001b[0mdims\u001b[0m\u001b[0;34m,\u001b[0m \u001b[0mextra_kws\u001b[0m\u001b[0;34m)\u001b[0m \u001b[0;34m=\u001b[0m \u001b[0minitialized\u001b[0m\u001b[0;34m\u001b[0m\u001b[0;34m\u001b[0m\u001b[0m\n\u001b[0;32m--> 233\u001b[0;31m         \u001b[0msuper\u001b[0m\u001b[0;34m(\u001b[0m\u001b[0mDataset\u001b[0m\u001b[0;34m,\u001b[0m \u001b[0mself\u001b[0m\u001b[0;34m)\u001b[0m\u001b[0;34m.\u001b[0m\u001b[0m__init__\u001b[0m\u001b[0;34m(\u001b[0m\u001b[0mdata\u001b[0m\u001b[0;34m,\u001b[0m \u001b[0;34m**\u001b[0m\u001b[0mdict\u001b[0m\u001b[0;34m(\u001b[0m\u001b[0mkwargs\u001b[0m\u001b[0;34m,\u001b[0m \u001b[0;34m**\u001b[0m\u001b[0mdict\u001b[0m\u001b[0;34m(\u001b[0m\u001b[0mdims\u001b[0m\u001b[0;34m,\u001b[0m \u001b[0;34m**\u001b[0m\u001b[0mextra_kws\u001b[0m\u001b[0;34m)\u001b[0m\u001b[0;34m)\u001b[0m\u001b[0;34m)\u001b[0m\u001b[0;34m\u001b[0m\u001b[0;34m\u001b[0m\u001b[0m\n\u001b[0m\u001b[1;32m    234\u001b[0m         \u001b[0mself\u001b[0m\u001b[0;34m.\u001b[0m\u001b[0minterface\u001b[0m\u001b[0;34m.\u001b[0m\u001b[0mvalidate\u001b[0m\u001b[0;34m(\u001b[0m\u001b[0mself\u001b[0m\u001b[0;34m,\u001b[0m \u001b[0mvalidate_vdims\u001b[0m\u001b[0;34m)\u001b[0m\u001b[0;34m\u001b[0m\u001b[0;34m\u001b[0m\u001b[0m\n\u001b[1;32m    235\u001b[0m \u001b[0;34m\u001b[0m\u001b[0m\n",
      "\u001b[0;32m~/miniconda3/envs/rad/lib/python3.6/site-packages/holoviews/core/dimension.py\u001b[0m in \u001b[0;36m__init__\u001b[0;34m(self, data, kdims, vdims, **params)\u001b[0m\n\u001b[1;32m    872\u001b[0m             params['cdims'] = {d if isinstance(d, Dimension) else Dimension(d): val\n\u001b[1;32m    873\u001b[0m                                for d, val in params['cdims'].items()}\n\u001b[0;32m--> 874\u001b[0;31m         \u001b[0msuper\u001b[0m\u001b[0;34m(\u001b[0m\u001b[0mDimensioned\u001b[0m\u001b[0;34m,\u001b[0m \u001b[0mself\u001b[0m\u001b[0;34m)\u001b[0m\u001b[0;34m.\u001b[0m\u001b[0m__init__\u001b[0m\u001b[0;34m(\u001b[0m\u001b[0mdata\u001b[0m\u001b[0;34m,\u001b[0m \u001b[0;34m**\u001b[0m\u001b[0mparams\u001b[0m\u001b[0;34m)\u001b[0m\u001b[0;34m\u001b[0m\u001b[0;34m\u001b[0m\u001b[0m\n\u001b[0m\u001b[1;32m    875\u001b[0m         \u001b[0mself\u001b[0m\u001b[0;34m.\u001b[0m\u001b[0mndims\u001b[0m \u001b[0;34m=\u001b[0m \u001b[0mlen\u001b[0m\u001b[0;34m(\u001b[0m\u001b[0mself\u001b[0m\u001b[0;34m.\u001b[0m\u001b[0mkdims\u001b[0m\u001b[0;34m)\u001b[0m\u001b[0;34m\u001b[0m\u001b[0;34m\u001b[0m\u001b[0m\n\u001b[1;32m    876\u001b[0m         \u001b[0mcdims\u001b[0m \u001b[0;34m=\u001b[0m \u001b[0;34m[\u001b[0m\u001b[0;34m(\u001b[0m\u001b[0md\u001b[0m\u001b[0;34m.\u001b[0m\u001b[0mname\u001b[0m\u001b[0;34m,\u001b[0m \u001b[0mval\u001b[0m\u001b[0;34m)\u001b[0m \u001b[0;32mfor\u001b[0m \u001b[0md\u001b[0m\u001b[0;34m,\u001b[0m \u001b[0mval\u001b[0m \u001b[0;32min\u001b[0m \u001b[0mself\u001b[0m\u001b[0;34m.\u001b[0m\u001b[0mcdims\u001b[0m\u001b[0;34m.\u001b[0m\u001b[0mitems\u001b[0m\u001b[0;34m(\u001b[0m\u001b[0;34m)\u001b[0m\u001b[0;34m]\u001b[0m\u001b[0;34m\u001b[0m\u001b[0;34m\u001b[0m\u001b[0m\n",
      "\u001b[0;32m~/miniconda3/envs/rad/lib/python3.6/site-packages/holoviews/core/dimension.py\u001b[0m in \u001b[0;36m__init__\u001b[0;34m(self, data, id, plot_id, **params)\u001b[0m\n\u001b[1;32m    593\u001b[0m             \u001b[0mparams\u001b[0m\u001b[0;34m[\u001b[0m\u001b[0;34m'group'\u001b[0m\u001b[0;34m]\u001b[0m \u001b[0;34m=\u001b[0m \u001b[0mlong_name\u001b[0m\u001b[0;34m\u001b[0m\u001b[0;34m\u001b[0m\u001b[0m\n\u001b[1;32m    594\u001b[0m \u001b[0;34m\u001b[0m\u001b[0m\n\u001b[0;32m--> 595\u001b[0;31m         \u001b[0msuper\u001b[0m\u001b[0;34m(\u001b[0m\u001b[0mLabelledData\u001b[0m\u001b[0;34m,\u001b[0m \u001b[0mself\u001b[0m\u001b[0;34m)\u001b[0m\u001b[0;34m.\u001b[0m\u001b[0m__init__\u001b[0m\u001b[0;34m(\u001b[0m\u001b[0;34m**\u001b[0m\u001b[0mparams\u001b[0m\u001b[0;34m)\u001b[0m\u001b[0;34m\u001b[0m\u001b[0;34m\u001b[0m\u001b[0m\n\u001b[0m\u001b[1;32m    596\u001b[0m         \u001b[0;32mif\u001b[0m \u001b[0;32mnot\u001b[0m \u001b[0mgroup_sanitizer\u001b[0m\u001b[0;34m.\u001b[0m\u001b[0mallowable\u001b[0m\u001b[0;34m(\u001b[0m\u001b[0mself\u001b[0m\u001b[0;34m.\u001b[0m\u001b[0mgroup\u001b[0m\u001b[0;34m)\u001b[0m\u001b[0;34m:\u001b[0m\u001b[0;34m\u001b[0m\u001b[0;34m\u001b[0m\u001b[0m\n\u001b[1;32m    597\u001b[0m             raise ValueError(\"Supplied group %r contains invalid characters.\" %\n",
      "\u001b[0;32m~/miniconda3/envs/rad/lib/python3.6/site-packages/param/parameterized.py\u001b[0m in \u001b[0;36m__init__\u001b[0;34m(self, **params)\u001b[0m\n\u001b[1;32m   1907\u001b[0m         \u001b[0mself\u001b[0m\u001b[0;34m.\u001b[0m\u001b[0mparam\u001b[0m\u001b[0;34m.\u001b[0m\u001b[0m_generate_name\u001b[0m\u001b[0;34m(\u001b[0m\u001b[0;34m)\u001b[0m\u001b[0;34m\u001b[0m\u001b[0;34m\u001b[0m\u001b[0m\n\u001b[1;32m   1908\u001b[0m \u001b[0;34m\u001b[0m\u001b[0m\n\u001b[0;32m-> 1909\u001b[0;31m         \u001b[0mself\u001b[0m\u001b[0;34m.\u001b[0m\u001b[0mparam\u001b[0m\u001b[0;34m.\u001b[0m\u001b[0m_setup_params\u001b[0m\u001b[0;34m(\u001b[0m\u001b[0;34m**\u001b[0m\u001b[0mparams\u001b[0m\u001b[0;34m)\u001b[0m\u001b[0;34m\u001b[0m\u001b[0;34m\u001b[0m\u001b[0m\n\u001b[0m\u001b[1;32m   1910\u001b[0m         \u001b[0mobject_count\u001b[0m \u001b[0;34m+=\u001b[0m \u001b[0;36m1\u001b[0m\u001b[0;34m\u001b[0m\u001b[0;34m\u001b[0m\u001b[0m\n\u001b[1;32m   1911\u001b[0m \u001b[0;34m\u001b[0m\u001b[0m\n",
      "\u001b[0;32m~/miniconda3/envs/rad/lib/python3.6/site-packages/param/parameterized.py\u001b[0m in \u001b[0;36moverride_initialization\u001b[0;34m(self_, *args, **kw)\u001b[0m\n\u001b[1;32m    704\u001b[0m         \u001b[0moriginal_initialized\u001b[0m\u001b[0;34m=\u001b[0m\u001b[0mparameterized_instance\u001b[0m\u001b[0;34m.\u001b[0m\u001b[0minitialized\u001b[0m\u001b[0;34m\u001b[0m\u001b[0;34m\u001b[0m\u001b[0m\n\u001b[1;32m    705\u001b[0m         \u001b[0mparameterized_instance\u001b[0m\u001b[0;34m.\u001b[0m\u001b[0minitialized\u001b[0m\u001b[0;34m=\u001b[0m\u001b[0;32mFalse\u001b[0m\u001b[0;34m\u001b[0m\u001b[0;34m\u001b[0m\u001b[0m\n\u001b[0;32m--> 706\u001b[0;31m         \u001b[0mfn\u001b[0m\u001b[0;34m(\u001b[0m\u001b[0mparameterized_instance\u001b[0m\u001b[0;34m,\u001b[0m\u001b[0;34m*\u001b[0m\u001b[0margs\u001b[0m\u001b[0;34m,\u001b[0m\u001b[0;34m**\u001b[0m\u001b[0mkw\u001b[0m\u001b[0;34m)\u001b[0m\u001b[0;34m\u001b[0m\u001b[0;34m\u001b[0m\u001b[0m\n\u001b[0m\u001b[1;32m    707\u001b[0m         \u001b[0mparameterized_instance\u001b[0m\u001b[0;34m.\u001b[0m\u001b[0minitialized\u001b[0m\u001b[0;34m=\u001b[0m\u001b[0moriginal_initialized\u001b[0m\u001b[0;34m\u001b[0m\u001b[0;34m\u001b[0m\u001b[0m\n\u001b[1;32m    708\u001b[0m     \u001b[0;32mreturn\u001b[0m \u001b[0moverride_initialization\u001b[0m\u001b[0;34m\u001b[0m\u001b[0;34m\u001b[0m\u001b[0m\n",
      "\u001b[0;32m~/miniconda3/envs/rad/lib/python3.6/site-packages/param/parameterized.py\u001b[0m in \u001b[0;36m_setup_params\u001b[0;34m(self_, **params)\u001b[0m\n\u001b[1;32m    846\u001b[0m                 \u001b[0mself\u001b[0m\u001b[0;34m.\u001b[0m\u001b[0mparam\u001b[0m\u001b[0;34m.\u001b[0m\u001b[0mwarning\u001b[0m\u001b[0;34m(\u001b[0m\u001b[0;34m\"Setting non-parameter attribute %s=%s using a mechanism intended only for parameters\"\u001b[0m\u001b[0;34m,\u001b[0m\u001b[0mname\u001b[0m\u001b[0;34m,\u001b[0m\u001b[0mval\u001b[0m\u001b[0;34m)\u001b[0m\u001b[0;34m\u001b[0m\u001b[0;34m\u001b[0m\u001b[0m\n\u001b[1;32m    847\u001b[0m             \u001b[0;31m# i.e. if not desc it's setting an attribute in __dict__, not a Parameter\u001b[0m\u001b[0;34m\u001b[0m\u001b[0;34m\u001b[0m\u001b[0;34m\u001b[0m\u001b[0m\n\u001b[0;32m--> 848\u001b[0;31m             \u001b[0msetattr\u001b[0m\u001b[0;34m(\u001b[0m\u001b[0mself\u001b[0m\u001b[0;34m,\u001b[0m\u001b[0mname\u001b[0m\u001b[0;34m,\u001b[0m\u001b[0mval\u001b[0m\u001b[0;34m)\u001b[0m\u001b[0;34m\u001b[0m\u001b[0;34m\u001b[0m\u001b[0m\n\u001b[0m\u001b[1;32m    849\u001b[0m \u001b[0;34m\u001b[0m\u001b[0m\n\u001b[1;32m    850\u001b[0m     \u001b[0;34m@\u001b[0m\u001b[0mclassmethod\u001b[0m\u001b[0;34m\u001b[0m\u001b[0;34m\u001b[0m\u001b[0m\n",
      "\u001b[0;32m~/miniconda3/envs/rad/lib/python3.6/site-packages/param/__init__.py\u001b[0m in \u001b[0;36m__set__\u001b[0;34m(self, obj, val)\u001b[0m\n\u001b[1;32m   1218\u001b[0m         \u001b[0;34m\"\"\"Set to the given value, raising an exception if out of bounds.\"\"\"\u001b[0m\u001b[0;34m\u001b[0m\u001b[0;34m\u001b[0m\u001b[0m\n\u001b[1;32m   1219\u001b[0m         \u001b[0mself\u001b[0m\u001b[0;34m.\u001b[0m\u001b[0m_check_bounds\u001b[0m\u001b[0;34m(\u001b[0m\u001b[0mval\u001b[0m\u001b[0;34m)\u001b[0m\u001b[0;34m\u001b[0m\u001b[0;34m\u001b[0m\u001b[0m\n\u001b[0;32m-> 1220\u001b[0;31m         \u001b[0msuper\u001b[0m\u001b[0;34m(\u001b[0m\u001b[0mList\u001b[0m\u001b[0;34m,\u001b[0m\u001b[0mself\u001b[0m\u001b[0;34m)\u001b[0m\u001b[0;34m.\u001b[0m\u001b[0m__set__\u001b[0m\u001b[0;34m(\u001b[0m\u001b[0mobj\u001b[0m\u001b[0;34m,\u001b[0m\u001b[0mval\u001b[0m\u001b[0;34m)\u001b[0m\u001b[0;34m\u001b[0m\u001b[0;34m\u001b[0m\u001b[0m\n\u001b[0m\u001b[1;32m   1221\u001b[0m \u001b[0;34m\u001b[0m\u001b[0m\n\u001b[1;32m   1222\u001b[0m     \u001b[0;32mdef\u001b[0m \u001b[0m_check_bounds\u001b[0m\u001b[0;34m(\u001b[0m\u001b[0mself\u001b[0m\u001b[0;34m,\u001b[0m\u001b[0mval\u001b[0m\u001b[0;34m)\u001b[0m\u001b[0;34m:\u001b[0m\u001b[0;34m\u001b[0m\u001b[0;34m\u001b[0m\u001b[0m\n",
      "\u001b[0;32m~/miniconda3/envs/rad/lib/python3.6/site-packages/param/parameterized.py\u001b[0m in \u001b[0;36m__set__\u001b[0;34m(self, obj, val)\u001b[0m\n\u001b[1;32m    598\u001b[0m             \u001b[0mwatchers\u001b[0m \u001b[0;34m=\u001b[0m \u001b[0mgetattr\u001b[0m\u001b[0;34m(\u001b[0m\u001b[0mobj\u001b[0m\u001b[0;34m,\u001b[0m\u001b[0;34m\"_param_watchers\"\u001b[0m\u001b[0;34m,\u001b[0m\u001b[0;34m{\u001b[0m\u001b[0;34m}\u001b[0m\u001b[0;34m)\u001b[0m\u001b[0;34m.\u001b[0m\u001b[0mget\u001b[0m\u001b[0;34m(\u001b[0m\u001b[0mself\u001b[0m\u001b[0;34m.\u001b[0m\u001b[0m_attrib_name\u001b[0m\u001b[0;34m,\u001b[0m\u001b[0;34m{\u001b[0m\u001b[0;34m}\u001b[0m\u001b[0;34m)\u001b[0m\u001b[0;34m.\u001b[0m\u001b[0mget\u001b[0m\u001b[0;34m(\u001b[0m\u001b[0;34m'value'\u001b[0m\u001b[0;34m,\u001b[0m\u001b[0mself\u001b[0m\u001b[0;34m.\u001b[0m\u001b[0mwatchers\u001b[0m\u001b[0;34m.\u001b[0m\u001b[0mget\u001b[0m\u001b[0;34m(\u001b[0m\u001b[0;34m\"value\"\u001b[0m\u001b[0;34m,\u001b[0m\u001b[0;34m[\u001b[0m\u001b[0;34m]\u001b[0m\u001b[0;34m)\u001b[0m\u001b[0;34m)\u001b[0m\u001b[0;34m\u001b[0m\u001b[0;34m\u001b[0m\u001b[0m\n\u001b[1;32m    599\u001b[0m \u001b[0;34m\u001b[0m\u001b[0m\n\u001b[0;32m--> 600\u001b[0;31m         \u001b[0mevent\u001b[0m \u001b[0;34m=\u001b[0m \u001b[0mEvent\u001b[0m\u001b[0;34m(\u001b[0m\u001b[0mwhat\u001b[0m\u001b[0;34m=\u001b[0m\u001b[0;34m'value'\u001b[0m\u001b[0;34m,\u001b[0m\u001b[0mname\u001b[0m\u001b[0;34m=\u001b[0m\u001b[0mself\u001b[0m\u001b[0;34m.\u001b[0m\u001b[0m_attrib_name\u001b[0m\u001b[0;34m,\u001b[0m\u001b[0mobj\u001b[0m\u001b[0;34m=\u001b[0m\u001b[0mobj\u001b[0m\u001b[0;34m,\u001b[0m\u001b[0mcls\u001b[0m\u001b[0;34m=\u001b[0m\u001b[0mself\u001b[0m\u001b[0;34m.\u001b[0m\u001b[0m_owner\u001b[0m\u001b[0;34m,\u001b[0m\u001b[0mold\u001b[0m\u001b[0;34m=\u001b[0m\u001b[0m_old\u001b[0m\u001b[0;34m,\u001b[0m\u001b[0mnew\u001b[0m\u001b[0;34m=\u001b[0m\u001b[0mval\u001b[0m\u001b[0;34m,\u001b[0m \u001b[0mtype\u001b[0m\u001b[0;34m=\u001b[0m\u001b[0;32mNone\u001b[0m\u001b[0;34m)\u001b[0m\u001b[0;34m\u001b[0m\u001b[0;34m\u001b[0m\u001b[0m\n\u001b[0m\u001b[1;32m    601\u001b[0m         \u001b[0mobj\u001b[0m \u001b[0;34m=\u001b[0m \u001b[0mself\u001b[0m\u001b[0;34m.\u001b[0m\u001b[0m_owner\u001b[0m \u001b[0;32mif\u001b[0m \u001b[0mobj\u001b[0m \u001b[0;32mis\u001b[0m \u001b[0;32mNone\u001b[0m \u001b[0;32melse\u001b[0m \u001b[0mobj\u001b[0m\u001b[0;34m\u001b[0m\u001b[0;34m\u001b[0m\u001b[0m\n\u001b[1;32m    602\u001b[0m         \u001b[0;32mfor\u001b[0m \u001b[0ms\u001b[0m \u001b[0;32min\u001b[0m \u001b[0mwatchers\u001b[0m\u001b[0;34m:\u001b[0m\u001b[0;34m\u001b[0m\u001b[0;34m\u001b[0m\u001b[0m\n",
      "\u001b[0;32m<string>\u001b[0m in \u001b[0;36m__new__\u001b[0;34m(_cls, what, name, obj, cls, old, new, type)\u001b[0m\n",
      "\u001b[0;31mKeyboardInterrupt\u001b[0m: "
     ]
    }
   ],
   "source": [
    "#mmnts = read_parquet('/home/ec2-user/Phys18Conf_1/data_files/sixth_trim', engine='fastparquet')\n",
    "#mmnts_out = mmnts.compute(scheduler='processes', optimize_graph=True)\n",
    "dataset = gv.Dataset(mmnts_out, kdims=['Time', 'Value'])\n",
    "#%%opts Overlay [width=700 height=700]\n",
    "#%%opts Points (size=0.005 cmap='viridis') [tools=['hover'] size_index=2 color_index=2 xaxis='Longitude' yaxis='Latitude']\n",
    "tiles = {'OpenMap': WMTSTileSource(url='http://c.tile.openstreetmap.org/{Z}/{X}/{Y}.png'),\n",
    "         'ESRI': WMTSTileSource(url='https://server.arcgisonline.com/ArcGIS/rest/services/World_Imagery/MapServer/tile/{Z}/{Y}/{X}.jpg'),\n",
    "         'Wikipedia': WMTSTileSource(url='https://maps.wikimedia.org/osm-intl/{Z}/{X}/{Y}@2x.png')}\n",
    "(gv.WMTS(tiles['Wikipedia']) *\\\n",
    "dataset.to(gv.Points, kdims=['Longitude', 'Latitude'],\n",
    "           vdims='Value', crs=crs.InterruptedGoodeHomolosine()))"
   ]
  },
  {
   "cell_type": "code",
   "execution_count": null,
   "metadata": {},
   "outputs": [],
   "source": [
    "%%opts Image [project=crs.InterruptedGoodeHomolosine()] (cmap='Greens')\n",
    "dataset = gv.Dataset(mmnts_out.to_xarray(), kdims=kdims, vdims=vdims, crs=crs.InterruptedGoodeHomolosine())\n",
    "dataset.to.image(['Latitude', 'Longitude']) * features"
   ]
  }
 ],
 "metadata": {
  "kernelspec": {
   "display_name": "Python 3",
   "language": "python",
   "name": "python3"
  },
  "language_info": {
   "codemirror_mode": {
    "name": "ipython",
    "version": 3
   },
   "file_extension": ".py",
   "mimetype": "text/x-python",
   "name": "python",
   "nbconvert_exporter": "python",
   "pygments_lexer": "ipython3",
   "version": "3.7.0"
  }
 },
 "nbformat": 4,
 "nbformat_minor": 2
}
