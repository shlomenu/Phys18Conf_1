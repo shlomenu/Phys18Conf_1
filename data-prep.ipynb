{
 "cells": [
  {
   "cell_type": "code",
   "execution_count": 3,
   "metadata": {},
   "outputs": [],
   "source": [
    "# Dask imports \n",
    "import dask\n",
    "from dask import dataframe as dd\n",
    "from dask.dataframe import to_parquet, read_parquet\n",
    "from dask.diagnostics import ProgressBar\n",
    "# Other data manip. imports\n",
    "import pandas as pd\n",
    "import numpy as np\n",
    "from sklearn.cluster import DBSCAN\n",
    "from sklearn.neighbors import DistanceMetric\n",
    "from sklearn.metrics import pairwise_distances\n",
    "# utilities\n",
    "from multiprocessing import cpu_count\n",
    "from datetime import datetime\n",
    "from re import compile"
   ]
  },
  {
   "cell_type": "code",
   "execution_count": 9,
   "metadata": {
    "collapsed": true
   },
   "outputs": [
    {
     "name": "stdout",
     "output_type": "stream",
     "text": [
      "[                                        ] | 0% Completed | 11.1s"
     ]
    },
    {
     "name": "stderr",
     "output_type": "stream",
     "text": [
      "/home/shlomenu/anaconda3/envs/rad/lib/python3.7/site-packages/dask/local.py:252: DtypeWarning: Columns (5) have mixed types. Specify dtype option on import or set low_memory=False.\n",
      "  args2 = [_execute_task(a, cache) for a in args]\n"
     ]
    },
    {
     "name": "stdout",
     "output_type": "stream",
     "text": [
      "[##                                      ] | 5% Completed | 31.1s"
     ]
    },
    {
     "name": "stderr",
     "output_type": "stream",
     "text": [
      "/home/shlomenu/anaconda3/envs/rad/lib/python3.7/site-packages/dask/local.py:252: DtypeWarning: Columns (5) have mixed types. Specify dtype option on import or set low_memory=False.\n",
      "  args2 = [_execute_task(a, cache) for a in args]\n"
     ]
    },
    {
     "name": "stdout",
     "output_type": "stream",
     "text": [
      "[##                                      ] | 6% Completed | 44.8s"
     ]
    },
    {
     "name": "stderr",
     "output_type": "stream",
     "text": [
      "/home/shlomenu/anaconda3/envs/rad/lib/python3.7/site-packages/dask/local.py:252: DtypeWarning: Columns (5) have mixed types. Specify dtype option on import or set low_memory=False.\n",
      "  args2 = [_execute_task(a, cache) for a in args]\n"
     ]
    },
    {
     "name": "stdout",
     "output_type": "stream",
     "text": [
      "[###                                     ] | 7% Completed | 48.6s"
     ]
    },
    {
     "name": "stderr",
     "output_type": "stream",
     "text": [
      "/home/shlomenu/anaconda3/envs/rad/lib/python3.7/site-packages/dask/local.py:252: DtypeWarning: Columns (5) have mixed types. Specify dtype option on import or set low_memory=False.\n",
      "  args2 = [_execute_task(a, cache) for a in args]\n"
     ]
    },
    {
     "name": "stdout",
     "output_type": "stream",
     "text": [
      "[####                                    ] | 10% Completed |  1min  5.0s"
     ]
    },
    {
     "name": "stderr",
     "output_type": "stream",
     "text": [
      "/home/shlomenu/anaconda3/envs/rad/lib/python3.7/site-packages/dask/local.py:252: DtypeWarning: Columns (5) have mixed types. Specify dtype option on import or set low_memory=False.\n",
      "  args2 = [_execute_task(a, cache) for a in args]\n"
     ]
    },
    {
     "name": "stdout",
     "output_type": "stream",
     "text": [
      "[####                                    ] | 12% Completed |  1min 12.3s"
     ]
    },
    {
     "name": "stderr",
     "output_type": "stream",
     "text": [
      "/home/shlomenu/anaconda3/envs/rad/lib/python3.7/site-packages/dask/local.py:252: DtypeWarning: Columns (5) have mixed types. Specify dtype option on import or set low_memory=False.\n",
      "  args2 = [_execute_task(a, cache) for a in args]\n"
     ]
    },
    {
     "name": "stdout",
     "output_type": "stream",
     "text": [
      "[####                                    ] | 12% Completed |  1min 13.9s"
     ]
    },
    {
     "name": "stderr",
     "output_type": "stream",
     "text": [
      "/home/shlomenu/anaconda3/envs/rad/lib/python3.7/site-packages/dask/local.py:252: DtypeWarning: Columns (5) have mixed types. Specify dtype option on import or set low_memory=False.\n",
      "  args2 = [_execute_task(a, cache) for a in args]\n"
     ]
    },
    {
     "name": "stdout",
     "output_type": "stream",
     "text": [
      "[######                                  ] | 16% Completed |  1min 38.9s"
     ]
    },
    {
     "name": "stderr",
     "output_type": "stream",
     "text": [
      "/home/shlomenu/anaconda3/envs/rad/lib/python3.7/site-packages/dask/local.py:252: DtypeWarning: Columns (5) have mixed types. Specify dtype option on import or set low_memory=False.\n",
      "  args2 = [_execute_task(a, cache) for a in args]\n"
     ]
    },
    {
     "name": "stdout",
     "output_type": "stream",
     "text": [
      "[#######                                 ] | 18% Completed |  1min 51.9s"
     ]
    },
    {
     "name": "stderr",
     "output_type": "stream",
     "text": [
      "/home/shlomenu/anaconda3/envs/rad/lib/python3.7/site-packages/dask/local.py:252: DtypeWarning: Columns (5) have mixed types. Specify dtype option on import or set low_memory=False.\n",
      "  args2 = [_execute_task(a, cache) for a in args]\n"
     ]
    },
    {
     "name": "stdout",
     "output_type": "stream",
     "text": [
      "[########                                ] | 22% Completed |  2min 13.5s"
     ]
    },
    {
     "name": "stderr",
     "output_type": "stream",
     "text": [
      "/home/shlomenu/anaconda3/envs/rad/lib/python3.7/site-packages/dask/local.py:252: DtypeWarning: Columns (5) have mixed types. Specify dtype option on import or set low_memory=False.\n",
      "  args2 = [_execute_task(a, cache) for a in args]\n"
     ]
    },
    {
     "name": "stdout",
     "output_type": "stream",
     "text": [
      "[##########                              ] | 25% Completed |  2min 27.8s"
     ]
    },
    {
     "name": "stderr",
     "output_type": "stream",
     "text": [
      "/home/shlomenu/anaconda3/envs/rad/lib/python3.7/site-packages/dask/local.py:252: DtypeWarning: Columns (5) have mixed types. Specify dtype option on import or set low_memory=False.\n",
      "  args2 = [_execute_task(a, cache) for a in args]\n"
     ]
    },
    {
     "name": "stdout",
     "output_type": "stream",
     "text": [
      "[##########                              ] | 26% Completed |  2min 35.1s"
     ]
    },
    {
     "name": "stderr",
     "output_type": "stream",
     "text": [
      "/home/shlomenu/anaconda3/envs/rad/lib/python3.7/site-packages/dask/local.py:252: DtypeWarning: Columns (5) have mixed types. Specify dtype option on import or set low_memory=False.\n",
      "  args2 = [_execute_task(a, cache) for a in args]\n"
     ]
    },
    {
     "name": "stdout",
     "output_type": "stream",
     "text": [
      "[###########                             ] | 29% Completed |  2min 54.7s"
     ]
    },
    {
     "name": "stderr",
     "output_type": "stream",
     "text": [
      "/home/shlomenu/anaconda3/envs/rad/lib/python3.7/site-packages/dask/local.py:252: DtypeWarning: Columns (5) have mixed types. Specify dtype option on import or set low_memory=False.\n",
      "  args2 = [_execute_task(a, cache) for a in args]\n"
     ]
    },
    {
     "name": "stdout",
     "output_type": "stream",
     "text": [
      "[###########                             ] | 29% Completed |  2min 57.1s"
     ]
    },
    {
     "name": "stderr",
     "output_type": "stream",
     "text": [
      "/home/shlomenu/anaconda3/envs/rad/lib/python3.7/site-packages/dask/local.py:252: DtypeWarning: Columns (5) have mixed types. Specify dtype option on import or set low_memory=False.\n",
      "  args2 = [_execute_task(a, cache) for a in args]\n"
     ]
    },
    {
     "name": "stdout",
     "output_type": "stream",
     "text": [
      "[#############                           ] | 32% Completed |  3min 16.5s"
     ]
    },
    {
     "name": "stderr",
     "output_type": "stream",
     "text": [
      "/home/shlomenu/anaconda3/envs/rad/lib/python3.7/site-packages/dask/local.py:252: DtypeWarning: Columns (5) have mixed types. Specify dtype option on import or set low_memory=False.\n",
      "  args2 = [_execute_task(a, cache) for a in args]\n"
     ]
    },
    {
     "name": "stdout",
     "output_type": "stream",
     "text": [
      "[#############                           ] | 33% Completed |  3min 19.7s"
     ]
    },
    {
     "name": "stderr",
     "output_type": "stream",
     "text": [
      "/home/shlomenu/anaconda3/envs/rad/lib/python3.7/site-packages/dask/local.py:252: DtypeWarning: Columns (5) have mixed types. Specify dtype option on import or set low_memory=False.\n",
      "  args2 = [_execute_task(a, cache) for a in args]\n"
     ]
    },
    {
     "name": "stdout",
     "output_type": "stream",
     "text": [
      "[###############                         ] | 37% Completed |  3min 42.5s"
     ]
    },
    {
     "name": "stderr",
     "output_type": "stream",
     "text": [
      "/home/shlomenu/anaconda3/envs/rad/lib/python3.7/site-packages/dask/local.py:252: DtypeWarning: Columns (5) have mixed types. Specify dtype option on import or set low_memory=False.\n",
      "  args2 = [_execute_task(a, cache) for a in args]\n"
     ]
    },
    {
     "name": "stdout",
     "output_type": "stream",
     "text": [
      "[################                        ] | 41% Completed |  4min 11.3s"
     ]
    },
    {
     "name": "stderr",
     "output_type": "stream",
     "text": [
      "/home/shlomenu/anaconda3/envs/rad/lib/python3.7/site-packages/dask/local.py:252: DtypeWarning: Columns (5) have mixed types. Specify dtype option on import or set low_memory=False.\n",
      "  args2 = [_execute_task(a, cache) for a in args]\n"
     ]
    },
    {
     "name": "stdout",
     "output_type": "stream",
     "text": [
      "[##################                      ] | 45% Completed |  4min 34.3s"
     ]
    },
    {
     "name": "stderr",
     "output_type": "stream",
     "text": [
      "/home/shlomenu/anaconda3/envs/rad/lib/python3.7/site-packages/dask/local.py:252: DtypeWarning: Columns (5) have mixed types. Specify dtype option on import or set low_memory=False.\n",
      "  args2 = [_execute_task(a, cache) for a in args]\n"
     ]
    },
    {
     "name": "stdout",
     "output_type": "stream",
     "text": [
      "[##################                      ] | 47% Completed |  4min 43.4s"
     ]
    },
    {
     "name": "stderr",
     "output_type": "stream",
     "text": [
      "/home/shlomenu/anaconda3/envs/rad/lib/python3.7/site-packages/dask/local.py:252: DtypeWarning: Columns (5) have mixed types. Specify dtype option on import or set low_memory=False.\n",
      "  args2 = [_execute_task(a, cache) for a in args]\n"
     ]
    },
    {
     "name": "stdout",
     "output_type": "stream",
     "text": [
      "[###################                     ] | 49% Completed |  5min  0.8s"
     ]
    },
    {
     "name": "stderr",
     "output_type": "stream",
     "text": [
      "/home/shlomenu/anaconda3/envs/rad/lib/python3.7/site-packages/dask/local.py:252: DtypeWarning: Columns (5) have mixed types. Specify dtype option on import or set low_memory=False.\n",
      "  args2 = [_execute_task(a, cache) for a in args]\n"
     ]
    },
    {
     "name": "stdout",
     "output_type": "stream",
     "text": [
      "[####################                    ] | 51% Completed |  5min  6.6s"
     ]
    },
    {
     "name": "stderr",
     "output_type": "stream",
     "text": [
      "/home/shlomenu/anaconda3/envs/rad/lib/python3.7/site-packages/dask/local.py:252: DtypeWarning: Columns (5) have mixed types. Specify dtype option on import or set low_memory=False.\n",
      "  args2 = [_execute_task(a, cache) for a in args]\n"
     ]
    },
    {
     "name": "stdout",
     "output_type": "stream",
     "text": [
      "[######################                  ] | 55% Completed |  5min 35.4s"
     ]
    },
    {
     "name": "stderr",
     "output_type": "stream",
     "text": [
      "/home/shlomenu/anaconda3/envs/rad/lib/python3.7/site-packages/dask/local.py:252: DtypeWarning: Columns (5) have mixed types. Specify dtype option on import or set low_memory=False.\n",
      "  args2 = [_execute_task(a, cache) for a in args]\n"
     ]
    },
    {
     "name": "stdout",
     "output_type": "stream",
     "text": [
      "[########################                ] | 62% Completed |  6min 18.5s"
     ]
    },
    {
     "name": "stderr",
     "output_type": "stream",
     "text": [
      "/home/shlomenu/anaconda3/envs/rad/lib/python3.7/site-packages/dask/local.py:252: DtypeWarning: Columns (5) have mixed types. Specify dtype option on import or set low_memory=False.\n",
      "  args2 = [_execute_task(a, cache) for a in args]\n"
     ]
    },
    {
     "name": "stdout",
     "output_type": "stream",
     "text": [
      "[#########################               ] | 63% Completed |  6min 33.4s"
     ]
    },
    {
     "name": "stderr",
     "output_type": "stream",
     "text": [
      "/home/shlomenu/anaconda3/envs/rad/lib/python3.7/site-packages/dask/local.py:252: DtypeWarning: Columns (5) have mixed types. Specify dtype option on import or set low_memory=False.\n",
      "  args2 = [_execute_task(a, cache) for a in args]\n"
     ]
    },
    {
     "name": "stdout",
     "output_type": "stream",
     "text": [
      "[############################            ] | 70% Completed |  7min  8.0s"
     ]
    },
    {
     "name": "stderr",
     "output_type": "stream",
     "text": [
      "/home/shlomenu/anaconda3/envs/rad/lib/python3.7/site-packages/dask/local.py:252: DtypeWarning: Columns (5) have mixed types. Specify dtype option on import or set low_memory=False.\n",
      "  args2 = [_execute_task(a, cache) for a in args]\n"
     ]
    },
    {
     "name": "stdout",
     "output_type": "stream",
     "text": [
      "[############################            ] | 70% Completed |  7min  9.2s"
     ]
    },
    {
     "name": "stderr",
     "output_type": "stream",
     "text": [
      "/home/shlomenu/anaconda3/envs/rad/lib/python3.7/site-packages/dask/local.py:252: DtypeWarning: Columns (5) have mixed types. Specify dtype option on import or set low_memory=False.\n",
      "  args2 = [_execute_task(a, cache) for a in args]\n"
     ]
    },
    {
     "name": "stdout",
     "output_type": "stream",
     "text": [
      "[############################            ] | 72% Completed |  7min 19.8s"
     ]
    },
    {
     "name": "stderr",
     "output_type": "stream",
     "text": [
      "/home/shlomenu/anaconda3/envs/rad/lib/python3.7/site-packages/dask/local.py:252: DtypeWarning: Columns (5) have mixed types. Specify dtype option on import or set low_memory=False.\n",
      "  args2 = [_execute_task(a, cache) for a in args]\n"
     ]
    },
    {
     "name": "stdout",
     "output_type": "stream",
     "text": [
      "[#############################           ] | 74% Completed |  7min 34.3s"
     ]
    },
    {
     "name": "stderr",
     "output_type": "stream",
     "text": [
      "/home/shlomenu/anaconda3/envs/rad/lib/python3.7/site-packages/dask/local.py:252: DtypeWarning: Columns (5) have mixed types. Specify dtype option on import or set low_memory=False.\n",
      "  args2 = [_execute_task(a, cache) for a in args]\n"
     ]
    },
    {
     "name": "stdout",
     "output_type": "stream",
     "text": [
      "[###############################         ] | 78% Completed |  7min 57.4s"
     ]
    },
    {
     "name": "stderr",
     "output_type": "stream",
     "text": [
      "/home/shlomenu/anaconda3/envs/rad/lib/python3.7/site-packages/dask/local.py:252: DtypeWarning: Columns (5) have mixed types. Specify dtype option on import or set low_memory=False.\n",
      "  args2 = [_execute_task(a, cache) for a in args]\n"
     ]
    },
    {
     "name": "stdout",
     "output_type": "stream",
     "text": [
      "[###############################         ] | 79% Completed |  8min  3.8s"
     ]
    },
    {
     "name": "stderr",
     "output_type": "stream",
     "text": [
      "/home/shlomenu/anaconda3/envs/rad/lib/python3.7/site-packages/dask/local.py:252: DtypeWarning: Columns (5) have mixed types. Specify dtype option on import or set low_memory=False.\n",
      "  args2 = [_execute_task(a, cache) for a in args]\n"
     ]
    },
    {
     "name": "stdout",
     "output_type": "stream",
     "text": [
      "[#################################       ] | 83% Completed |  8min 23.6s"
     ]
    },
    {
     "name": "stderr",
     "output_type": "stream",
     "text": [
      "/home/shlomenu/anaconda3/envs/rad/lib/python3.7/site-packages/dask/local.py:252: DtypeWarning: Columns (5) have mixed types. Specify dtype option on import or set low_memory=False.\n",
      "  args2 = [_execute_task(a, cache) for a in args]\n"
     ]
    },
    {
     "name": "stdout",
     "output_type": "stream",
     "text": [
      "[##################################      ] | 85% Completed |  8min 37.8s"
     ]
    },
    {
     "name": "stderr",
     "output_type": "stream",
     "text": [
      "/home/shlomenu/anaconda3/envs/rad/lib/python3.7/site-packages/dask/local.py:252: DtypeWarning: Columns (5) have mixed types. Specify dtype option on import or set low_memory=False.\n",
      "  args2 = [_execute_task(a, cache) for a in args]\n"
     ]
    },
    {
     "name": "stdout",
     "output_type": "stream",
     "text": [
      "[###################################     ] | 87% Completed |  8min 48.5s"
     ]
    },
    {
     "name": "stderr",
     "output_type": "stream",
     "text": [
      "/home/shlomenu/anaconda3/envs/rad/lib/python3.7/site-packages/dask/local.py:252: DtypeWarning: Columns (5) have mixed types. Specify dtype option on import or set low_memory=False.\n",
      "  args2 = [_execute_task(a, cache) for a in args]\n"
     ]
    },
    {
     "name": "stdout",
     "output_type": "stream",
     "text": [
      "[###################################     ] | 88% Completed |  8min 58.1s"
     ]
    },
    {
     "name": "stderr",
     "output_type": "stream",
     "text": [
      "/home/shlomenu/anaconda3/envs/rad/lib/python3.7/site-packages/dask/local.py:252: DtypeWarning: Columns (5) have mixed types. Specify dtype option on import or set low_memory=False.\n",
      "  args2 = [_execute_task(a, cache) for a in args]\n"
     ]
    },
    {
     "name": "stdout",
     "output_type": "stream",
     "text": [
      "[########################################] | 100% Completed | 10min  2.3s\n"
     ]
    }
   ],
   "source": [
    "# Making file more manageable by dropping undesired columns, renaming, repartitioning then saving in better file format.\n",
    "# Only needed to be executed once; preserved for posterity.\n",
    "\n",
    "mmnts = dd.read_csv('./measurements-out.csv', dtype={'Surface':'object', 'Radiation':'object'})\n",
    "mmnts = mmnts.rename(columns={'Captured Time': 'Time'})\n",
    "mmnts = mmnts.drop(['Device ID', 'MD5Sum', 'Height', 'Surface', 'Radiation', 'Uploaded Time', 'Loader ID'], axis=1)\n",
    "ncores = cpu_count()\n",
    "with ProgressBar():\n",
    "    to_parquet( mmnts.repartition(npartitions=(3*ncores)), \n",
    "                '/mnt/c/users/eliw5/src/academic/Phys18Conf_1/', \n",
    "                engine='fastparquet', \n",
    "                compute=True,\n",
    "    )"
   ]
  },
  {
   "cell_type": "code",
   "execution_count": 3,
   "metadata": {},
   "outputs": [],
   "source": [
    "mmnts = read_parquet('./data_files/first_trim/', engine='fastparquet')\n",
    "mmnts = mmnts.drop(['Location Name'], axis='columns')\n",
    "ncores = cpu_count()\n",
    "mmnts = mmnts.repartition(npartitions=6*ncores)"
   ]
  },
  {
   "cell_type": "code",
   "execution_count": 5,
   "metadata": {},
   "outputs": [
    {
     "name": "stdout",
     "output_type": "stream",
     "text": [
      "[########################################] | 100% Completed |  1hr  3min  1.6s\n"
     ]
    }
   ],
   "source": [
    "with ProgressBar(), dask.config.set(scheduler='processes'):\n",
    "    to_parquet( mmnts,\n",
    "                './data_files/second_trim/',\n",
    "                engine='fastparquet',\n",
    "                compute=True\n",
    "    )"
   ]
  },
  {
   "cell_type": "code",
   "execution_count": 6,
   "metadata": {},
   "outputs": [],
   "source": [
    "mmnts = read_parquet('./data_files/second_trim/', engine='fastparquet')\n",
    "mmnts = mmnts.dropna()"
   ]
  },
  {
   "cell_type": "code",
   "execution_count": 8,
   "metadata": {},
   "outputs": [
    {
     "name": "stdout",
     "output_type": "stream",
     "text": [
      "[########################################] | 100% Completed | 49.6s\n"
     ]
    }
   ],
   "source": [
    "with ProgressBar(), dask.config.set(scheduler='processes', optimize_graph=True):\n",
    "    to_parquet( mmnts,\n",
    "                './data_files/third_trim/',\n",
    "                engine='fastparquet',\n",
    "                compute=True\n",
    "    )"
   ]
  },
  {
   "cell_type": "code",
   "execution_count": 3,
   "metadata": {},
   "outputs": [
    {
     "name": "stdout",
     "output_type": "stream",
     "text": [
      "[########################################] | 100% Completed | 20.3s\n",
      "[########################################] | 100% Completed | 18.5s\n"
     ]
    }
   ],
   "source": [
    "mmnts = read_parquet('./data_files/third_trim/', engine='fastparquet')\n",
    "with ProgressBar(), dask.config.set(scheduler='processes', optimize_graph=True):\n",
    "    to_parquet( mmnts.categorize(columns=['Unit'], index=False),\n",
    "                '/home/ec2-user/Phys18Conf_1/data_files/fourth_trim/',\n",
    "                engine='fastparquet',\n",
    "                compute=True,\n",
    "    )"
   ]
  },
  {
   "cell_type": "code",
   "execution_count": 6,
   "metadata": {},
   "outputs": [],
   "source": [
    "start_dt = datetime.strptime('2011-01-01 00:00:00', '%Y-%m-%d %H:%M:%S')\n",
    "microseconds = compile('\\.\\d*')\n",
    "\n",
    "def filt(col):\n",
    "    if col.dtype != 'object':\n",
    "        return col\n",
    "    else:\n",
    "        return col.apply(tconv)\n",
    "    \n",
    "def tconv(s):\n",
    "    dt = datetime.strptime(microseconds.sub('', str(s)), '%Y-%m-%d %H:%M:%S')\n",
    "    delta = dt - start_dt\n",
    "    result = np.array(delta.total_seconds())\n",
    "    return result.astype(np.int64)"
   ]
  },
  {
   "cell_type": "code",
   "execution_count": 7,
   "metadata": {},
   "outputs": [],
   "source": [
    "mmnts = read_parquet('./data_files/fourth_trim/', engine='fastparquet')\n",
    "_meta = {'Time': 'int64', 'Latitude': 'float64', 'Longitude': 'float64', 'Value': 'float64', 'Unit': 'category'}\n",
    "mmnts = mmnts.map_partitions(lambda df: df.apply(filt, axis=0), meta=_meta)"
   ]
  },
  {
   "cell_type": "code",
   "execution_count": 9,
   "metadata": {},
   "outputs": [
    {
     "name": "stdout",
     "output_type": "stream",
     "text": [
      "[########################################] | 100% Completed |  1min 56.6s\n"
     ]
    }
   ],
   "source": [
    "with ProgressBar(), dask.config.set(scheduler='processes', optimize_graph=True):\n",
    "    to_parquet( mmnts,\n",
    "               '/home/ec2-user/Phys18Conf_1/data_files/fifth_trim',\n",
    "               engine='fastparquet',\n",
    "               compute=True\n",
    "    )"
   ]
  },
  {
   "cell_type": "code",
   "execution_count": 13,
   "metadata": {},
   "outputs": [
    {
     "data": {
      "text/plain": [
       "109799687"
      ]
     },
     "execution_count": 13,
     "metadata": {},
     "output_type": "execute_result"
    }
   ],
   "source": [
    "len(mmnts)"
   ]
  },
  {
   "cell_type": "code",
   "execution_count": 4,
   "metadata": {},
   "outputs": [],
   "source": [
    "mmnts = read_parquet('/home/ec2-user/Phys18Conf_1/data_files/fifth_trim/', engine='fastparquet')"
   ]
  },
  {
   "cell_type": "code",
   "execution_count": 20,
   "metadata": {},
   "outputs": [
    {
     "name": "stdout",
     "output_type": "stream",
     "text": [
      "[########################################] | 100% Completed |  0.7s\n"
     ]
    }
   ],
   "source": [
    "with ProgressBar():\n",
    "    out = mmnts['Unit'].value_counts().compute(scheduler='processes', optimize_graph=True)"
   ]
  },
  {
   "cell_type": "code",
   "execution_count": 21,
   "metadata": {},
   "outputs": [
    {
     "data": {
      "text/plain": [
       "cpm             102927743\n",
       "status            3765116\n",
       "celcius           2775932\n",
       "usv                279888\n",
       "microsievert        30096\n",
       " cpm                10043\n",
       "1                    8892\n",
       "DeviceType2          1363\n",
       "CPM                   289\n",
       "Cpm                    55\n",
       "DeviceType1            45\n",
       "usv/hr                 43\n",
       "uSv/h                  43\n",
       "PM1                    28\n",
       "HUMD%                  20\n",
       "PM2.5                  17\n",
       "0                      15\n",
       "uSv                    14\n",
       "PM10                   13\n",
       "NOXppm                 12\n",
       "TEMPC                  11\n",
       "pm2.5                   4\n",
       "uSv/hr                  3\n",
       "RSSI                    2\n",
       "Name: Unit, dtype: int64"
      ]
     },
     "execution_count": 21,
     "metadata": {},
     "output_type": "execute_result"
    }
   ],
   "source": [
    "out"
   ]
  },
  {
   "cell_type": "code",
   "execution_count": 23,
   "metadata": {},
   "outputs": [
    {
     "name": "stdout",
     "output_type": "stream",
     "text": [
      "[########################################] | 100% Completed | 36.4s\n"
     ]
    }
   ],
   "source": [
    "with ProgressBar():\n",
    "    out2 = mmnts[mmnts['Unit'].isin(['cpm', ' cpm', 'CPM', 'Cpm'])].compute(scheduler='processes', optimize_graph=True)"
   ]
  },
  {
   "cell_type": "code",
   "execution_count": 37,
   "metadata": {},
   "outputs": [],
   "source": [
    "out2.drop('Unit', axis=1, inplace=True)"
   ]
  },
  {
   "cell_type": "code",
   "execution_count": 40,
   "metadata": {},
   "outputs": [],
   "source": [
    "out3 = dd.from_pandas(out2, npartitions=108)"
   ]
  },
  {
   "cell_type": "code",
   "execution_count": 41,
   "metadata": {},
   "outputs": [
    {
     "data": {
      "text/html": [
       "<div><strong>Dask DataFrame Structure:</strong></div>\n",
       "<div>\n",
       "<style scoped>\n",
       "    .dataframe tbody tr th:only-of-type {\n",
       "        vertical-align: middle;\n",
       "    }\n",
       "\n",
       "    .dataframe tbody tr th {\n",
       "        vertical-align: top;\n",
       "    }\n",
       "\n",
       "    .dataframe thead th {\n",
       "        text-align: right;\n",
       "    }\n",
       "</style>\n",
       "<table border=\"1\" class=\"dataframe\">\n",
       "  <thead>\n",
       "    <tr style=\"text-align: right;\">\n",
       "      <th></th>\n",
       "      <th>Time</th>\n",
       "      <th>Latitude</th>\n",
       "      <th>Longitude</th>\n",
       "      <th>Value</th>\n",
       "    </tr>\n",
       "    <tr>\n",
       "      <th>npartitions=108</th>\n",
       "      <th></th>\n",
       "      <th></th>\n",
       "      <th></th>\n",
       "      <th></th>\n",
       "    </tr>\n",
       "  </thead>\n",
       "  <tbody>\n",
       "    <tr>\n",
       "      <th>0</th>\n",
       "      <td>int64</td>\n",
       "      <td>float64</td>\n",
       "      <td>float64</td>\n",
       "      <td>float64</td>\n",
       "    </tr>\n",
       "    <tr>\n",
       "      <th>9279</th>\n",
       "      <td>...</td>\n",
       "      <td>...</td>\n",
       "      <td>...</td>\n",
       "      <td>...</td>\n",
       "    </tr>\n",
       "    <tr>\n",
       "      <th>...</th>\n",
       "      <td>...</td>\n",
       "      <td>...</td>\n",
       "      <td>...</td>\n",
       "      <td>...</td>\n",
       "    </tr>\n",
       "    <tr>\n",
       "      <th>1140465</th>\n",
       "      <td>...</td>\n",
       "      <td>...</td>\n",
       "      <td>...</td>\n",
       "      <td>...</td>\n",
       "    </tr>\n",
       "    <tr>\n",
       "      <th>1164829</th>\n",
       "      <td>...</td>\n",
       "      <td>...</td>\n",
       "      <td>...</td>\n",
       "      <td>...</td>\n",
       "    </tr>\n",
       "  </tbody>\n",
       "</table>\n",
       "</div>\n",
       "<div>Dask Name: from_pandas, 108 tasks</div>"
      ],
      "text/plain": [
       "Dask DataFrame Structure:\n",
       "                  Time Latitude Longitude    Value\n",
       "npartitions=108                                   \n",
       "0                int64  float64   float64  float64\n",
       "9279               ...      ...       ...      ...\n",
       "...                ...      ...       ...      ...\n",
       "1140465            ...      ...       ...      ...\n",
       "1164829            ...      ...       ...      ...\n",
       "Dask Name: from_pandas, 108 tasks"
      ]
     },
     "execution_count": 41,
     "metadata": {},
     "output_type": "execute_result"
    }
   ],
   "source": [
    "out3"
   ]
  },
  {
   "cell_type": "code",
   "execution_count": 42,
   "metadata": {},
   "outputs": [
    {
     "name": "stdout",
     "output_type": "stream",
     "text": [
      "[########################################] | 100% Completed | 16.4s\n"
     ]
    }
   ],
   "source": [
    "with ProgressBar(), dask.config.set(scheduler='processes', optimize_graph=True):\n",
    "    to_parquet( out3,\n",
    "                '/home/ec2-user/Phys18Conf_1/data_files/sixth_trim/',\n",
    "                engine='fastparquet',\n",
    "                compute=True,\n",
    "    )"
   ]
  },
  {
   "cell_type": "code",
   "execution_count": 43,
   "metadata": {},
   "outputs": [
    {
     "data": {
      "text/html": [
       "<div>\n",
       "<style scoped>\n",
       "    .dataframe tbody tr th:only-of-type {\n",
       "        vertical-align: middle;\n",
       "    }\n",
       "\n",
       "    .dataframe tbody tr th {\n",
       "        vertical-align: top;\n",
       "    }\n",
       "\n",
       "    .dataframe thead th {\n",
       "        text-align: right;\n",
       "    }\n",
       "</style>\n",
       "<table border=\"1\" class=\"dataframe\">\n",
       "  <thead>\n",
       "    <tr style=\"text-align: right;\">\n",
       "      <th></th>\n",
       "      <th>Time</th>\n",
       "      <th>Latitude</th>\n",
       "      <th>Longitude</th>\n",
       "      <th>Value</th>\n",
       "    </tr>\n",
       "  </thead>\n",
       "  <tbody>\n",
       "    <tr>\n",
       "      <th>0</th>\n",
       "      <td>286909200</td>\n",
       "      <td>37.507552</td>\n",
       "      <td>139.941170</td>\n",
       "      <td>72.0</td>\n",
       "    </tr>\n",
       "    <tr>\n",
       "      <th>1</th>\n",
       "      <td>286887600</td>\n",
       "      <td>37.507250</td>\n",
       "      <td>139.940000</td>\n",
       "      <td>55.0</td>\n",
       "    </tr>\n",
       "    <tr>\n",
       "      <th>2</th>\n",
       "      <td>286887600</td>\n",
       "      <td>37.505445</td>\n",
       "      <td>0.016667</td>\n",
       "      <td>68.0</td>\n",
       "    </tr>\n",
       "    <tr>\n",
       "      <th>3</th>\n",
       "      <td>286686000</td>\n",
       "      <td>34.066487</td>\n",
       "      <td>-118.895217</td>\n",
       "      <td>50.0</td>\n",
       "    </tr>\n",
       "    <tr>\n",
       "      <th>4</th>\n",
       "      <td>286678800</td>\n",
       "      <td>37.673233</td>\n",
       "      <td>140.066667</td>\n",
       "      <td>48.0</td>\n",
       "    </tr>\n",
       "    <tr>\n",
       "      <th>5</th>\n",
       "      <td>286678800</td>\n",
       "      <td>37.674782</td>\n",
       "      <td>140.079895</td>\n",
       "      <td>52.0</td>\n",
       "    </tr>\n",
       "    <tr>\n",
       "      <th>6</th>\n",
       "      <td>285015600</td>\n",
       "      <td>37.517902</td>\n",
       "      <td>139.925478</td>\n",
       "      <td>59.0</td>\n",
       "    </tr>\n",
       "    <tr>\n",
       "      <th>7</th>\n",
       "      <td>285015600</td>\n",
       "      <td>37.754973</td>\n",
       "      <td>140.687660</td>\n",
       "      <td>384.0</td>\n",
       "    </tr>\n",
       "    <tr>\n",
       "      <th>8</th>\n",
       "      <td>285015600</td>\n",
       "      <td>37.526595</td>\n",
       "      <td>139.931667</td>\n",
       "      <td>59.0</td>\n",
       "    </tr>\n",
       "    <tr>\n",
       "      <th>9</th>\n",
       "      <td>285015600</td>\n",
       "      <td>37.737157</td>\n",
       "      <td>140.726832</td>\n",
       "      <td>441.0</td>\n",
       "    </tr>\n",
       "    <tr>\n",
       "      <th>10</th>\n",
       "      <td>285015600</td>\n",
       "      <td>37.539610</td>\n",
       "      <td>140.116577</td>\n",
       "      <td>47.0</td>\n",
       "    </tr>\n",
       "    <tr>\n",
       "      <th>11</th>\n",
       "      <td>285015600</td>\n",
       "      <td>37.737123</td>\n",
       "      <td>140.726853</td>\n",
       "      <td>454.0</td>\n",
       "    </tr>\n",
       "    <tr>\n",
       "      <th>12</th>\n",
       "      <td>285015600</td>\n",
       "      <td>37.550587</td>\n",
       "      <td>139.950000</td>\n",
       "      <td>44.0</td>\n",
       "    </tr>\n",
       "    <tr>\n",
       "      <th>13</th>\n",
       "      <td>285015600</td>\n",
       "      <td>37.755880</td>\n",
       "      <td>140.703412</td>\n",
       "      <td>463.0</td>\n",
       "    </tr>\n",
       "    <tr>\n",
       "      <th>14</th>\n",
       "      <td>285015600</td>\n",
       "      <td>37.747668</td>\n",
       "      <td>140.707195</td>\n",
       "      <td>579.0</td>\n",
       "    </tr>\n",
       "    <tr>\n",
       "      <th>15</th>\n",
       "      <td>284997600</td>\n",
       "      <td>37.552842</td>\n",
       "      <td>139.958773</td>\n",
       "      <td>62.0</td>\n",
       "    </tr>\n",
       "    <tr>\n",
       "      <th>16</th>\n",
       "      <td>284990400</td>\n",
       "      <td>37.537458</td>\n",
       "      <td>139.959428</td>\n",
       "      <td>56.0</td>\n",
       "    </tr>\n",
       "    <tr>\n",
       "      <th>17</th>\n",
       "      <td>284979600</td>\n",
       "      <td>37.539837</td>\n",
       "      <td>140.020780</td>\n",
       "      <td>62.0</td>\n",
       "    </tr>\n",
       "    <tr>\n",
       "      <th>18</th>\n",
       "      <td>284979600</td>\n",
       "      <td>37.737142</td>\n",
       "      <td>140.726828</td>\n",
       "      <td>430.0</td>\n",
       "    </tr>\n",
       "    <tr>\n",
       "      <th>19</th>\n",
       "      <td>284961600</td>\n",
       "      <td>37.554983</td>\n",
       "      <td>139.952030</td>\n",
       "      <td>50.0</td>\n",
       "    </tr>\n",
       "    <tr>\n",
       "      <th>21</th>\n",
       "      <td>248403628</td>\n",
       "      <td>37.644440</td>\n",
       "      <td>140.797711</td>\n",
       "      <td>41.0</td>\n",
       "    </tr>\n",
       "    <tr>\n",
       "      <th>22</th>\n",
       "      <td>248403627</td>\n",
       "      <td>37.644440</td>\n",
       "      <td>140.797711</td>\n",
       "      <td>114.0</td>\n",
       "    </tr>\n",
       "    <tr>\n",
       "      <th>23</th>\n",
       "      <td>248403557</td>\n",
       "      <td>52.444900</td>\n",
       "      <td>13.315000</td>\n",
       "      <td>24.0</td>\n",
       "    </tr>\n",
       "    <tr>\n",
       "      <th>25</th>\n",
       "      <td>248403609</td>\n",
       "      <td>42.565000</td>\n",
       "      <td>-70.783000</td>\n",
       "      <td>8.0</td>\n",
       "    </tr>\n",
       "    <tr>\n",
       "      <th>26</th>\n",
       "      <td>248403608</td>\n",
       "      <td>42.565000</td>\n",
       "      <td>-70.783000</td>\n",
       "      <td>22.0</td>\n",
       "    </tr>\n",
       "    <tr>\n",
       "      <th>27</th>\n",
       "      <td>248403305</td>\n",
       "      <td>53.285100</td>\n",
       "      <td>-8.597100</td>\n",
       "      <td>19.0</td>\n",
       "    </tr>\n",
       "    <tr>\n",
       "      <th>28</th>\n",
       "      <td>248403541</td>\n",
       "      <td>21.019000</td>\n",
       "      <td>-101.257400</td>\n",
       "      <td>28.0</td>\n",
       "    </tr>\n",
       "    <tr>\n",
       "      <th>30</th>\n",
       "      <td>248403540</td>\n",
       "      <td>52.444900</td>\n",
       "      <td>13.315000</td>\n",
       "      <td>24.0</td>\n",
       "    </tr>\n",
       "    <tr>\n",
       "      <th>31</th>\n",
       "      <td>248403597</td>\n",
       "      <td>36.041080</td>\n",
       "      <td>140.226816</td>\n",
       "      <td>23.0</td>\n",
       "    </tr>\n",
       "    <tr>\n",
       "      <th>32</th>\n",
       "      <td>248403595</td>\n",
       "      <td>37.496139</td>\n",
       "      <td>140.986419</td>\n",
       "      <td>54.0</td>\n",
       "    </tr>\n",
       "    <tr>\n",
       "      <th>...</th>\n",
       "      <td>...</td>\n",
       "      <td>...</td>\n",
       "      <td>...</td>\n",
       "      <td>...</td>\n",
       "    </tr>\n",
       "    <tr>\n",
       "      <th>276622</th>\n",
       "      <td>9755723</td>\n",
       "      <td>35.642587</td>\n",
       "      <td>139.721382</td>\n",
       "      <td>46.0</td>\n",
       "    </tr>\n",
       "    <tr>\n",
       "      <th>276623</th>\n",
       "      <td>9755718</td>\n",
       "      <td>35.642577</td>\n",
       "      <td>139.721402</td>\n",
       "      <td>48.0</td>\n",
       "    </tr>\n",
       "    <tr>\n",
       "      <th>276624</th>\n",
       "      <td>9755713</td>\n",
       "      <td>35.642573</td>\n",
       "      <td>139.721415</td>\n",
       "      <td>49.0</td>\n",
       "    </tr>\n",
       "    <tr>\n",
       "      <th>276625</th>\n",
       "      <td>9755708</td>\n",
       "      <td>35.642565</td>\n",
       "      <td>139.721425</td>\n",
       "      <td>50.0</td>\n",
       "    </tr>\n",
       "    <tr>\n",
       "      <th>276626</th>\n",
       "      <td>9755703</td>\n",
       "      <td>35.642463</td>\n",
       "      <td>139.721445</td>\n",
       "      <td>47.0</td>\n",
       "    </tr>\n",
       "    <tr>\n",
       "      <th>276627</th>\n",
       "      <td>9755698</td>\n",
       "      <td>35.642393</td>\n",
       "      <td>139.721455</td>\n",
       "      <td>50.0</td>\n",
       "    </tr>\n",
       "    <tr>\n",
       "      <th>276628</th>\n",
       "      <td>9755693</td>\n",
       "      <td>35.642392</td>\n",
       "      <td>139.721455</td>\n",
       "      <td>47.0</td>\n",
       "    </tr>\n",
       "    <tr>\n",
       "      <th>276629</th>\n",
       "      <td>9755688</td>\n",
       "      <td>35.642377</td>\n",
       "      <td>139.721477</td>\n",
       "      <td>48.0</td>\n",
       "    </tr>\n",
       "    <tr>\n",
       "      <th>276630</th>\n",
       "      <td>9755683</td>\n",
       "      <td>35.642292</td>\n",
       "      <td>139.721528</td>\n",
       "      <td>51.0</td>\n",
       "    </tr>\n",
       "    <tr>\n",
       "      <th>276631</th>\n",
       "      <td>9755678</td>\n",
       "      <td>35.642132</td>\n",
       "      <td>139.721657</td>\n",
       "      <td>45.0</td>\n",
       "    </tr>\n",
       "    <tr>\n",
       "      <th>276632</th>\n",
       "      <td>9755673</td>\n",
       "      <td>35.641782</td>\n",
       "      <td>139.721890</td>\n",
       "      <td>43.0</td>\n",
       "    </tr>\n",
       "    <tr>\n",
       "      <th>276633</th>\n",
       "      <td>9755668</td>\n",
       "      <td>35.641528</td>\n",
       "      <td>139.721965</td>\n",
       "      <td>43.0</td>\n",
       "    </tr>\n",
       "    <tr>\n",
       "      <th>276634</th>\n",
       "      <td>9755663</td>\n",
       "      <td>35.641352</td>\n",
       "      <td>139.721872</td>\n",
       "      <td>38.0</td>\n",
       "    </tr>\n",
       "    <tr>\n",
       "      <th>276635</th>\n",
       "      <td>9755658</td>\n",
       "      <td>35.641395</td>\n",
       "      <td>139.721808</td>\n",
       "      <td>40.0</td>\n",
       "    </tr>\n",
       "    <tr>\n",
       "      <th>276636</th>\n",
       "      <td>9755653</td>\n",
       "      <td>35.641420</td>\n",
       "      <td>139.721778</td>\n",
       "      <td>38.0</td>\n",
       "    </tr>\n",
       "    <tr>\n",
       "      <th>276637</th>\n",
       "      <td>9755648</td>\n",
       "      <td>35.641420</td>\n",
       "      <td>139.721725</td>\n",
       "      <td>40.0</td>\n",
       "    </tr>\n",
       "    <tr>\n",
       "      <th>276638</th>\n",
       "      <td>9755643</td>\n",
       "      <td>35.641392</td>\n",
       "      <td>139.721658</td>\n",
       "      <td>42.0</td>\n",
       "    </tr>\n",
       "    <tr>\n",
       "      <th>276639</th>\n",
       "      <td>9755638</td>\n",
       "      <td>35.641350</td>\n",
       "      <td>139.721448</td>\n",
       "      <td>41.0</td>\n",
       "    </tr>\n",
       "    <tr>\n",
       "      <th>276640</th>\n",
       "      <td>9755633</td>\n",
       "      <td>35.641403</td>\n",
       "      <td>139.721172</td>\n",
       "      <td>44.0</td>\n",
       "    </tr>\n",
       "    <tr>\n",
       "      <th>276641</th>\n",
       "      <td>9755628</td>\n",
       "      <td>35.641350</td>\n",
       "      <td>139.721053</td>\n",
       "      <td>43.0</td>\n",
       "    </tr>\n",
       "    <tr>\n",
       "      <th>276642</th>\n",
       "      <td>9755623</td>\n",
       "      <td>35.641195</td>\n",
       "      <td>139.720930</td>\n",
       "      <td>39.0</td>\n",
       "    </tr>\n",
       "    <tr>\n",
       "      <th>276643</th>\n",
       "      <td>9755618</td>\n",
       "      <td>35.641118</td>\n",
       "      <td>139.720842</td>\n",
       "      <td>42.0</td>\n",
       "    </tr>\n",
       "    <tr>\n",
       "      <th>276644</th>\n",
       "      <td>9755613</td>\n",
       "      <td>35.641073</td>\n",
       "      <td>139.720798</td>\n",
       "      <td>46.0</td>\n",
       "    </tr>\n",
       "    <tr>\n",
       "      <th>276645</th>\n",
       "      <td>9755608</td>\n",
       "      <td>35.641018</td>\n",
       "      <td>139.720760</td>\n",
       "      <td>47.0</td>\n",
       "    </tr>\n",
       "    <tr>\n",
       "      <th>276646</th>\n",
       "      <td>9755593</td>\n",
       "      <td>35.640965</td>\n",
       "      <td>139.720700</td>\n",
       "      <td>49.0</td>\n",
       "    </tr>\n",
       "    <tr>\n",
       "      <th>276647</th>\n",
       "      <td>9755588</td>\n",
       "      <td>35.640967</td>\n",
       "      <td>139.720698</td>\n",
       "      <td>49.0</td>\n",
       "    </tr>\n",
       "    <tr>\n",
       "      <th>276648</th>\n",
       "      <td>9755583</td>\n",
       "      <td>35.640968</td>\n",
       "      <td>139.720698</td>\n",
       "      <td>47.0</td>\n",
       "    </tr>\n",
       "    <tr>\n",
       "      <th>276649</th>\n",
       "      <td>9755558</td>\n",
       "      <td>35.640967</td>\n",
       "      <td>139.720700</td>\n",
       "      <td>55.0</td>\n",
       "    </tr>\n",
       "    <tr>\n",
       "      <th>276650</th>\n",
       "      <td>-57111607523</td>\n",
       "      <td>37.539493</td>\n",
       "      <td>139.929430</td>\n",
       "      <td>66.0</td>\n",
       "    </tr>\n",
       "    <tr>\n",
       "      <th>276651</th>\n",
       "      <td>-57112128000</td>\n",
       "      <td>37.484943</td>\n",
       "      <td>140.322775</td>\n",
       "      <td>164.0</td>\n",
       "    </tr>\n",
       "  </tbody>\n",
       "</table>\n",
       "<p>102938130 rows × 4 columns</p>\n",
       "</div>"
      ],
      "text/plain": [
       "               Time   Latitude   Longitude  Value\n",
       "0         286909200  37.507552  139.941170   72.0\n",
       "1         286887600  37.507250  139.940000   55.0\n",
       "2         286887600  37.505445    0.016667   68.0\n",
       "3         286686000  34.066487 -118.895217   50.0\n",
       "4         286678800  37.673233  140.066667   48.0\n",
       "5         286678800  37.674782  140.079895   52.0\n",
       "6         285015600  37.517902  139.925478   59.0\n",
       "7         285015600  37.754973  140.687660  384.0\n",
       "8         285015600  37.526595  139.931667   59.0\n",
       "9         285015600  37.737157  140.726832  441.0\n",
       "10        285015600  37.539610  140.116577   47.0\n",
       "11        285015600  37.737123  140.726853  454.0\n",
       "12        285015600  37.550587  139.950000   44.0\n",
       "13        285015600  37.755880  140.703412  463.0\n",
       "14        285015600  37.747668  140.707195  579.0\n",
       "15        284997600  37.552842  139.958773   62.0\n",
       "16        284990400  37.537458  139.959428   56.0\n",
       "17        284979600  37.539837  140.020780   62.0\n",
       "18        284979600  37.737142  140.726828  430.0\n",
       "19        284961600  37.554983  139.952030   50.0\n",
       "21        248403628  37.644440  140.797711   41.0\n",
       "22        248403627  37.644440  140.797711  114.0\n",
       "23        248403557  52.444900   13.315000   24.0\n",
       "25        248403609  42.565000  -70.783000    8.0\n",
       "26        248403608  42.565000  -70.783000   22.0\n",
       "27        248403305  53.285100   -8.597100   19.0\n",
       "28        248403541  21.019000 -101.257400   28.0\n",
       "30        248403540  52.444900   13.315000   24.0\n",
       "31        248403597  36.041080  140.226816   23.0\n",
       "32        248403595  37.496139  140.986419   54.0\n",
       "...             ...        ...         ...    ...\n",
       "276622      9755723  35.642587  139.721382   46.0\n",
       "276623      9755718  35.642577  139.721402   48.0\n",
       "276624      9755713  35.642573  139.721415   49.0\n",
       "276625      9755708  35.642565  139.721425   50.0\n",
       "276626      9755703  35.642463  139.721445   47.0\n",
       "276627      9755698  35.642393  139.721455   50.0\n",
       "276628      9755693  35.642392  139.721455   47.0\n",
       "276629      9755688  35.642377  139.721477   48.0\n",
       "276630      9755683  35.642292  139.721528   51.0\n",
       "276631      9755678  35.642132  139.721657   45.0\n",
       "276632      9755673  35.641782  139.721890   43.0\n",
       "276633      9755668  35.641528  139.721965   43.0\n",
       "276634      9755663  35.641352  139.721872   38.0\n",
       "276635      9755658  35.641395  139.721808   40.0\n",
       "276636      9755653  35.641420  139.721778   38.0\n",
       "276637      9755648  35.641420  139.721725   40.0\n",
       "276638      9755643  35.641392  139.721658   42.0\n",
       "276639      9755638  35.641350  139.721448   41.0\n",
       "276640      9755633  35.641403  139.721172   44.0\n",
       "276641      9755628  35.641350  139.721053   43.0\n",
       "276642      9755623  35.641195  139.720930   39.0\n",
       "276643      9755618  35.641118  139.720842   42.0\n",
       "276644      9755613  35.641073  139.720798   46.0\n",
       "276645      9755608  35.641018  139.720760   47.0\n",
       "276646      9755593  35.640965  139.720700   49.0\n",
       "276647      9755588  35.640967  139.720698   49.0\n",
       "276648      9755583  35.640968  139.720698   47.0\n",
       "276649      9755558  35.640967  139.720700   55.0\n",
       "276650 -57111607523  37.539493  139.929430   66.0\n",
       "276651 -57112128000  37.484943  140.322775  164.0\n",
       "\n",
       "[102938130 rows x 4 columns]"
      ]
     },
     "execution_count": 43,
     "metadata": {},
     "output_type": "execute_result"
    }
   ],
   "source": [
    "out2"
   ]
  }
 ],
 "metadata": {
  "kernelspec": {
   "display_name": "Python 3",
   "language": "python",
   "name": "python3"
  },
  "language_info": {
   "codemirror_mode": {
    "name": "ipython",
    "version": 3
   },
   "file_extension": ".py",
   "mimetype": "text/x-python",
   "name": "python",
   "nbconvert_exporter": "python",
   "pygments_lexer": "ipython3",
   "version": "3.7.1"
  }
 },
 "nbformat": 4,
 "nbformat_minor": 2
}
